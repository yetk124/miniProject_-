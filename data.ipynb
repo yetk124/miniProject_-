{
 "cells": [
  {
   "cell_type": "code",
   "execution_count": null,
   "metadata": {},
   "outputs": [
    {
     "name": "stdout",
     "output_type": "stream",
     "text": [
      "Requirement already satisfied: folium in c:\\users\\user\\appdata\\local\\packages\\pythonsoftwarefoundation.python.3.11_qbz5n2kfra8p0\\localcache\\local-packages\\python311\\site-packages (0.19.4)\n",
      "Requirement already satisfied: branca>=0.6.0 in c:\\users\\user\\appdata\\local\\packages\\pythonsoftwarefoundation.python.3.11_qbz5n2kfra8p0\\localcache\\local-packages\\python311\\site-packages (from folium) (0.8.1)\n",
      "Requirement already satisfied: jinja2>=2.9 in c:\\users\\user\\appdata\\local\\packages\\pythonsoftwarefoundation.python.3.11_qbz5n2kfra8p0\\localcache\\local-packages\\python311\\site-packages (from folium) (3.1.5)\n",
      "Requirement already satisfied: numpy in c:\\users\\user\\appdata\\local\\packages\\pythonsoftwarefoundation.python.3.11_qbz5n2kfra8p0\\localcache\\local-packages\\python311\\site-packages (from folium) (1.26.4)\n",
      "Requirement already satisfied: requests in c:\\users\\user\\appdata\\local\\packages\\pythonsoftwarefoundation.python.3.11_qbz5n2kfra8p0\\localcache\\local-packages\\python311\\site-packages (from folium) (2.32.3)\n",
      "Requirement already satisfied: xyzservices in c:\\users\\user\\appdata\\local\\packages\\pythonsoftwarefoundation.python.3.11_qbz5n2kfra8p0\\localcache\\local-packages\\python311\\site-packages (from folium) (2025.1.0)\n",
      "Requirement already satisfied: MarkupSafe>=2.0 in c:\\users\\user\\appdata\\local\\packages\\pythonsoftwarefoundation.python.3.11_qbz5n2kfra8p0\\localcache\\local-packages\\python311\\site-packages (from jinja2>=2.9->folium) (3.0.2)\n",
      "Requirement already satisfied: charset-normalizer<4,>=2 in c:\\users\\user\\appdata\\local\\packages\\pythonsoftwarefoundation.python.3.11_qbz5n2kfra8p0\\localcache\\local-packages\\python311\\site-packages (from requests->folium) (3.4.1)\n",
      "Requirement already satisfied: idna<4,>=2.5 in c:\\users\\user\\appdata\\local\\packages\\pythonsoftwarefoundation.python.3.11_qbz5n2kfra8p0\\localcache\\local-packages\\python311\\site-packages (from requests->folium) (3.10)\n",
      "Requirement already satisfied: urllib3<3,>=1.21.1 in c:\\users\\user\\appdata\\local\\packages\\pythonsoftwarefoundation.python.3.11_qbz5n2kfra8p0\\localcache\\local-packages\\python311\\site-packages (from requests->folium) (2.3.0)\n",
      "Requirement already satisfied: certifi>=2017.4.17 in c:\\users\\user\\appdata\\local\\packages\\pythonsoftwarefoundation.python.3.11_qbz5n2kfra8p0\\localcache\\local-packages\\python311\\site-packages (from requests->folium) (2024.12.14)\n",
      "Note: you may need to restart the kernel to use updated packages.\n"
     ]
    },
    {
     "name": "stderr",
     "output_type": "stream",
     "text": [
      "\n",
      "[notice] A new release of pip is available: 24.3.1 -> 25.0.1\n",
      "[notice] To update, run: C:\\Users\\user\\AppData\\Local\\Microsoft\\WindowsApps\\PythonSoftwareFoundation.Python.3.11_qbz5n2kfra8p0\\python.exe -m pip install --upgrade pip\n"
     ]
    }
   ],
   "source": [
    "%pip install folium\n",
    "%pip install geopandas\n",
    "%pip install xgboost\n",
    "%pip install scikit-learn"
   ]
  },
  {
   "cell_type": "markdown",
   "metadata": {},
   "source": [
    "### 🧷☘️ mini Project"
   ]
  },
  {
   "cell_type": "markdown",
   "metadata": {},
   "source": [
    " > 서울시 부동산 실거래가 데이터를 분석하여 층수에 따른 거래 금액 차이를 비교하고 예측하는 작업"
   ]
  },
  {
   "cell_type": "markdown",
   "metadata": {},
   "source": [
    "### **🔥 프로젝트 개요**\n",
    "\n",
    "✅ **목표:**\n",
    "\n",
    "- 서울시 **자치구/법정동 단위로 범죄 발생 데이터를 분석**하여 위험 지역을 식별\n",
    "- 머신러닝 모델을 활용해 **범죄 발생 예측**\n",
    "- 웹 서비스로 **사용자가 자신의 위치에서 위험도(안전도도)를 확인**\n",
    "\n",
    "✅ **활용할 데이터:**\n",
    "\n",
    "- 서울시 열린데이터광장의 **범죄 발생 데이터 (예: 절도, 폭행, 강도, 성범죄 등)**\n",
    "- 경찰청/통계청 데이터 (치안시설, CCTV 개수 등)\n",
    "- 추가적으로 **날씨, 시간대, 유동 인구** 등의 변수도 고려 가능\n",
    "\n",
    "✅ **예상 기술 스택:**\n",
    "\n",
    "- **데이터 수집:** `requests` (API) + `pandas` (파일처리)\n",
    "- **DB 저장:** MongoDB\n",
    "- **분석 및 모델링:** `scikit-learn` (랜덤포레스트, 로지스틱 회귀 등)\n",
    "- **시각화:** `Matplotlib`, `Seaborn`, `Folium` (지도 시각화)\n",
    "- **웹 서비스:** `Flask` + `Plotly/Dash` (대시보드)"
   ]
  },
  {
   "cell_type": "markdown",
   "metadata": {},
   "source": [
    "### 1️⃣ 데이터 수집 및 로드"
   ]
  },
  {
   "cell_type": "markdown",
   "metadata": {},
   "source": [
    "* 필요한 라이브러리 설치"
   ]
  },
  {
   "cell_type": "code",
   "execution_count": 50,
   "metadata": {},
   "outputs": [],
   "source": [
    "import pandas as pd\n",
    "import requests"
   ]
  },
  {
   "cell_type": "markdown",
   "metadata": {},
   "source": [
    "* 필요한 데이터 수집 - 서울시 부동산, cctv, 5대범죄, 경찰서 (head 부분만 보여줌)"
   ]
  },
  {
   "cell_type": "code",
   "execution_count": 51,
   "metadata": {},
   "outputs": [
    {
     "name": "stderr",
     "output_type": "stream",
     "text": [
      "C:\\Users\\user\\AppData\\Local\\Temp\\ipykernel_50144\\742582261.py:5: DtypeWarning: Columns (7,8) have mixed types. Specify dtype option on import or set low_memory=False.\n",
      "  data = pd.read_csv(file_path, encoding='euc-kr')\n"
     ]
    },
    {
     "data": {
      "text/html": [
       "<div>\n",
       "<style scoped>\n",
       "    .dataframe tbody tr th:only-of-type {\n",
       "        vertical-align: middle;\n",
       "    }\n",
       "\n",
       "    .dataframe tbody tr th {\n",
       "        vertical-align: top;\n",
       "    }\n",
       "\n",
       "    .dataframe thead th {\n",
       "        text-align: right;\n",
       "    }\n",
       "</style>\n",
       "<table border=\"1\" class=\"dataframe\">\n",
       "  <thead>\n",
       "    <tr style=\"text-align: right;\">\n",
       "      <th></th>\n",
       "      <th>접수연도</th>\n",
       "      <th>자치구코드</th>\n",
       "      <th>자치구명</th>\n",
       "      <th>법정동코드</th>\n",
       "      <th>법정동명</th>\n",
       "      <th>지번구분</th>\n",
       "      <th>지번구분명</th>\n",
       "      <th>본번</th>\n",
       "      <th>부번</th>\n",
       "      <th>건물명</th>\n",
       "      <th>...</th>\n",
       "      <th>물건금액(만원)</th>\n",
       "      <th>건물면적(㎡)</th>\n",
       "      <th>토지면적(㎡)</th>\n",
       "      <th>층</th>\n",
       "      <th>권리구분</th>\n",
       "      <th>취소일</th>\n",
       "      <th>건축년도</th>\n",
       "      <th>건물용도</th>\n",
       "      <th>신고구분</th>\n",
       "      <th>신고한 개업공인중개사 시군구명</th>\n",
       "    </tr>\n",
       "  </thead>\n",
       "  <tbody>\n",
       "    <tr>\n",
       "      <th>0</th>\n",
       "      <td>2025</td>\n",
       "      <td>11320</td>\n",
       "      <td>도봉구</td>\n",
       "      <td>10600</td>\n",
       "      <td>방학동</td>\n",
       "      <td>1.0</td>\n",
       "      <td>대지</td>\n",
       "      <td>638.0</td>\n",
       "      <td>10.0</td>\n",
       "      <td>한신빌라(638-10)</td>\n",
       "      <td>...</td>\n",
       "      <td>14800</td>\n",
       "      <td>37.66</td>\n",
       "      <td>16.00</td>\n",
       "      <td>4.0</td>\n",
       "      <td>NaN</td>\n",
       "      <td>NaN</td>\n",
       "      <td>1994.0</td>\n",
       "      <td>연립다세대</td>\n",
       "      <td>중개거래</td>\n",
       "      <td>서울 도봉구</td>\n",
       "    </tr>\n",
       "    <tr>\n",
       "      <th>1</th>\n",
       "      <td>2025</td>\n",
       "      <td>11380</td>\n",
       "      <td>은평구</td>\n",
       "      <td>10800</td>\n",
       "      <td>역촌동</td>\n",
       "      <td>NaN</td>\n",
       "      <td>NaN</td>\n",
       "      <td>NaN</td>\n",
       "      <td>NaN</td>\n",
       "      <td>NaN</td>\n",
       "      <td>...</td>\n",
       "      <td>39620</td>\n",
       "      <td>74.08</td>\n",
       "      <td>182.00</td>\n",
       "      <td>NaN</td>\n",
       "      <td>NaN</td>\n",
       "      <td>NaN</td>\n",
       "      <td>1972.0</td>\n",
       "      <td>단독다가구</td>\n",
       "      <td>직거래</td>\n",
       "      <td>NaN</td>\n",
       "    </tr>\n",
       "    <tr>\n",
       "      <th>2</th>\n",
       "      <td>2025</td>\n",
       "      <td>11500</td>\n",
       "      <td>강서구</td>\n",
       "      <td>10200</td>\n",
       "      <td>등촌동</td>\n",
       "      <td>1.0</td>\n",
       "      <td>대지</td>\n",
       "      <td>628.0</td>\n",
       "      <td>13.0</td>\n",
       "      <td>현대프린스텔</td>\n",
       "      <td>...</td>\n",
       "      <td>10300</td>\n",
       "      <td>26.16</td>\n",
       "      <td>35.71</td>\n",
       "      <td>6.0</td>\n",
       "      <td>NaN</td>\n",
       "      <td>NaN</td>\n",
       "      <td>1999.0</td>\n",
       "      <td>오피스텔</td>\n",
       "      <td>중개거래</td>\n",
       "      <td>서울 강서구</td>\n",
       "    </tr>\n",
       "    <tr>\n",
       "      <th>3</th>\n",
       "      <td>2025</td>\n",
       "      <td>11620</td>\n",
       "      <td>관악구</td>\n",
       "      <td>10200</td>\n",
       "      <td>신림동</td>\n",
       "      <td>1.0</td>\n",
       "      <td>대지</td>\n",
       "      <td>1639.0</td>\n",
       "      <td>51.0</td>\n",
       "      <td>푸리마타운</td>\n",
       "      <td>...</td>\n",
       "      <td>12700</td>\n",
       "      <td>18.70</td>\n",
       "      <td>26.16</td>\n",
       "      <td>8.0</td>\n",
       "      <td>NaN</td>\n",
       "      <td>NaN</td>\n",
       "      <td>2014.0</td>\n",
       "      <td>오피스텔</td>\n",
       "      <td>중개거래</td>\n",
       "      <td>서울 관악구</td>\n",
       "    </tr>\n",
       "    <tr>\n",
       "      <th>4</th>\n",
       "      <td>2025</td>\n",
       "      <td>11530</td>\n",
       "      <td>구로구</td>\n",
       "      <td>10600</td>\n",
       "      <td>고척동</td>\n",
       "      <td>1.0</td>\n",
       "      <td>대지</td>\n",
       "      <td>339.0</td>\n",
       "      <td>0.0</td>\n",
       "      <td>고척파크푸르지오</td>\n",
       "      <td>...</td>\n",
       "      <td>84000</td>\n",
       "      <td>59.89</td>\n",
       "      <td>0.00</td>\n",
       "      <td>9.0</td>\n",
       "      <td>NaN</td>\n",
       "      <td>NaN</td>\n",
       "      <td>2009.0</td>\n",
       "      <td>아파트</td>\n",
       "      <td>중개거래</td>\n",
       "      <td>서울 구로구, 서울 양천구</td>\n",
       "    </tr>\n",
       "  </tbody>\n",
       "</table>\n",
       "<p>5 rows × 21 columns</p>\n",
       "</div>"
      ],
      "text/plain": [
       "   접수연도  자치구코드 자치구명  법정동코드 법정동명  지번구분 지번구분명      본번    부번           건물명  ...  \\\n",
       "0  2025  11320  도봉구  10600  방학동   1.0    대지   638.0  10.0  한신빌라(638-10)  ...   \n",
       "1  2025  11380  은평구  10800  역촌동   NaN   NaN     NaN   NaN           NaN  ...   \n",
       "2  2025  11500  강서구  10200  등촌동   1.0    대지   628.0  13.0        현대프린스텔  ...   \n",
       "3  2025  11620  관악구  10200  신림동   1.0    대지  1639.0  51.0         푸리마타운  ...   \n",
       "4  2025  11530  구로구  10600  고척동   1.0    대지   339.0   0.0      고척파크푸르지오  ...   \n",
       "\n",
       "   물건금액(만원)  건물면적(㎡)  토지면적(㎡)    층  권리구분 취소일    건축년도   건물용도  신고구분  \\\n",
       "0     14800    37.66    16.00  4.0   NaN NaN  1994.0  연립다세대  중개거래   \n",
       "1     39620    74.08   182.00  NaN   NaN NaN  1972.0  단독다가구   직거래   \n",
       "2     10300    26.16    35.71  6.0   NaN NaN  1999.0   오피스텔  중개거래   \n",
       "3     12700    18.70    26.16  8.0   NaN NaN  2014.0   오피스텔  중개거래   \n",
       "4     84000    59.89     0.00  9.0   NaN NaN  2009.0    아파트  중개거래   \n",
       "\n",
       "  신고한 개업공인중개사 시군구명  \n",
       "0           서울 도봉구  \n",
       "1              NaN  \n",
       "2           서울 강서구  \n",
       "3           서울 관악구  \n",
       "4   서울 구로구, 서울 양천구  \n",
       "\n",
       "[5 rows x 21 columns]"
      ]
     },
     "execution_count": 51,
     "metadata": {},
     "output_type": "execute_result"
    }
   ],
   "source": [
    "# 데이터 파일 경로 (예: CSV 파일 로드)\n",
    "file_path = '서울시 부동산 실거래가 정보(2022~2025).csv'\n",
    "\n",
    "# CSV 파일을 Pandas 데이터프레임으로 로드\n",
    "data = pd.read_csv(file_path, encoding='euc-kr')\n",
    "\n",
    "# 데이터 확인\n",
    "# print(data.head())\n",
    "\n",
    "data.head()"
   ]
  },
  {
   "cell_type": "code",
   "execution_count": 86,
   "metadata": {},
   "outputs": [
    {
     "name": "stderr",
     "output_type": "stream",
     "text": [
      "C:\\Users\\user\\AppData\\Local\\Temp\\ipykernel_50144\\3636665340.py:3: DtypeWarning:\n",
      "\n",
      "Columns (7,8) have mixed types. Specify dtype option on import or set low_memory=False.\n",
      "\n"
     ]
    },
    {
     "data": {
      "text/html": [
       "<div>\n",
       "<style scoped>\n",
       "    .dataframe tbody tr th:only-of-type {\n",
       "        vertical-align: middle;\n",
       "    }\n",
       "\n",
       "    .dataframe tbody tr th {\n",
       "        vertical-align: top;\n",
       "    }\n",
       "\n",
       "    .dataframe thead th {\n",
       "        text-align: right;\n",
       "    }\n",
       "</style>\n",
       "<table border=\"1\" class=\"dataframe\">\n",
       "  <thead>\n",
       "    <tr style=\"text-align: right;\">\n",
       "      <th></th>\n",
       "      <th>자치구명</th>\n",
       "      <th>법정동명</th>\n",
       "      <th>계약일</th>\n",
       "      <th>물건금액(만원)</th>\n",
       "      <th>건물면적(㎡)</th>\n",
       "      <th>층</th>\n",
       "      <th>건축년도</th>\n",
       "    </tr>\n",
       "  </thead>\n",
       "  <tbody>\n",
       "    <tr>\n",
       "      <th>0</th>\n",
       "      <td>도봉구</td>\n",
       "      <td>방학동</td>\n",
       "      <td>20250117</td>\n",
       "      <td>14800</td>\n",
       "      <td>37.66</td>\n",
       "      <td>4.0</td>\n",
       "      <td>1994.0</td>\n",
       "    </tr>\n",
       "    <tr>\n",
       "      <th>1</th>\n",
       "      <td>은평구</td>\n",
       "      <td>역촌동</td>\n",
       "      <td>20250117</td>\n",
       "      <td>39620</td>\n",
       "      <td>74.08</td>\n",
       "      <td>NaN</td>\n",
       "      <td>1972.0</td>\n",
       "    </tr>\n",
       "    <tr>\n",
       "      <th>2</th>\n",
       "      <td>강서구</td>\n",
       "      <td>등촌동</td>\n",
       "      <td>20250117</td>\n",
       "      <td>10300</td>\n",
       "      <td>26.16</td>\n",
       "      <td>6.0</td>\n",
       "      <td>1999.0</td>\n",
       "    </tr>\n",
       "    <tr>\n",
       "      <th>3</th>\n",
       "      <td>관악구</td>\n",
       "      <td>신림동</td>\n",
       "      <td>20250117</td>\n",
       "      <td>12700</td>\n",
       "      <td>18.70</td>\n",
       "      <td>8.0</td>\n",
       "      <td>2014.0</td>\n",
       "    </tr>\n",
       "    <tr>\n",
       "      <th>4</th>\n",
       "      <td>구로구</td>\n",
       "      <td>고척동</td>\n",
       "      <td>20250117</td>\n",
       "      <td>84000</td>\n",
       "      <td>59.89</td>\n",
       "      <td>9.0</td>\n",
       "      <td>2009.0</td>\n",
       "    </tr>\n",
       "  </tbody>\n",
       "</table>\n",
       "</div>"
      ],
      "text/plain": [
       "  자치구명 법정동명       계약일  물건금액(만원)  건물면적(㎡)    층    건축년도\n",
       "0  도봉구  방학동  20250117     14800    37.66  4.0  1994.0\n",
       "1  은평구  역촌동  20250117     39620    74.08  NaN  1972.0\n",
       "2  강서구  등촌동  20250117     10300    26.16  6.0  1999.0\n",
       "3  관악구  신림동  20250117     12700    18.70  8.0  2014.0\n",
       "4  구로구  고척동  20250117     84000    59.89  9.0  2009.0"
      ]
     },
     "execution_count": 86,
     "metadata": {},
     "output_type": "execute_result"
    }
   ],
   "source": [
    "# 부동산 실거래가 데이터 로드 (CSV 파일)\n",
    "real_estate_file = '서울시 부동산 실거래가 정보(2022~2025).csv'\n",
    "real_estate_data = pd.read_csv(real_estate_file, encoding='euc-kr')\n",
    "\n",
    "# 필요한 컬럼 선택 (예: 자치구명, 법정동명, 계약일, 물건금액(만원), 건물면적(㎡), 층, 건축년도)\n",
    "real_estate_data = real_estate_data[['자치구명', '법정동명', '계약일', '물건금액(만원)', '건물면적(㎡)', '층', '건축년도']]\n",
    "\n",
    "real_estate_data.head()"
   ]
  },
  {
   "cell_type": "code",
   "execution_count": 53,
   "metadata": {},
   "outputs": [
    {
     "data": {
      "text/html": [
       "<div>\n",
       "<style scoped>\n",
       "    .dataframe tbody tr th:only-of-type {\n",
       "        vertical-align: middle;\n",
       "    }\n",
       "\n",
       "    .dataframe tbody tr th {\n",
       "        vertical-align: top;\n",
       "    }\n",
       "\n",
       "    .dataframe thead th {\n",
       "        text-align: right;\n",
       "    }\n",
       "</style>\n",
       "<table border=\"1\" class=\"dataframe\">\n",
       "  <thead>\n",
       "    <tr style=\"text-align: right;\">\n",
       "      <th></th>\n",
       "      <th>자치구</th>\n",
       "      <th>CCTV_총계</th>\n",
       "    </tr>\n",
       "  </thead>\n",
       "  <tbody>\n",
       "    <tr>\n",
       "      <th>0</th>\n",
       "      <td>종로구</td>\n",
       "      <td>2339</td>\n",
       "    </tr>\n",
       "    <tr>\n",
       "      <th>1</th>\n",
       "      <td>중구</td>\n",
       "      <td>3118</td>\n",
       "    </tr>\n",
       "    <tr>\n",
       "      <th>2</th>\n",
       "      <td>용산구</td>\n",
       "      <td>3609</td>\n",
       "    </tr>\n",
       "    <tr>\n",
       "      <th>3</th>\n",
       "      <td>성동구</td>\n",
       "      <td>4638</td>\n",
       "    </tr>\n",
       "    <tr>\n",
       "      <th>4</th>\n",
       "      <td>광진구</td>\n",
       "      <td>4636</td>\n",
       "    </tr>\n",
       "  </tbody>\n",
       "</table>\n",
       "</div>"
      ],
      "text/plain": [
       "   자치구  CCTV_총계\n",
       "0  종로구     2339\n",
       "1   중구     3118\n",
       "2  용산구     3609\n",
       "3  성동구     4638\n",
       "4  광진구     4636"
      ]
     },
     "execution_count": 53,
     "metadata": {},
     "output_type": "execute_result"
    }
   ],
   "source": [
    "# CCTV 데이터 로드 (CSV 파일 예시)\n",
    "cctv_file = '서울시 자치구cctv.csv'  # 파일 이름 (실제 파일명을 사용)\n",
    "cctv_data = pd.read_csv(cctv_file,  encoding='utf-8')  # 파일 인코딩에 맞게 지정\n",
    "\n",
    "# 예시 데이터 프레임 구조 확인\n",
    "cctv_data.head()\n"
   ]
  },
  {
   "cell_type": "code",
   "execution_count": 54,
   "metadata": {},
   "outputs": [
    {
     "data": {
      "text/html": [
       "<div>\n",
       "<style scoped>\n",
       "    .dataframe tbody tr th:only-of-type {\n",
       "        vertical-align: middle;\n",
       "    }\n",
       "\n",
       "    .dataframe tbody tr th {\n",
       "        vertical-align: top;\n",
       "    }\n",
       "\n",
       "    .dataframe thead th {\n",
       "        text-align: right;\n",
       "    }\n",
       "</style>\n",
       "<table border=\"1\" class=\"dataframe\">\n",
       "  <thead>\n",
       "    <tr style=\"text-align: right;\">\n",
       "      <th></th>\n",
       "      <th>자치구</th>\n",
       "      <th>살인</th>\n",
       "      <th>강도</th>\n",
       "      <th>강간·강제추행</th>\n",
       "      <th>절도</th>\n",
       "      <th>폭력</th>\n",
       "      <th>범죄_합계</th>\n",
       "    </tr>\n",
       "  </thead>\n",
       "  <tbody>\n",
       "    <tr>\n",
       "      <th>0</th>\n",
       "      <td>종로구</td>\n",
       "      <td>5</td>\n",
       "      <td>5</td>\n",
       "      <td>239</td>\n",
       "      <td>1169</td>\n",
       "      <td>1563</td>\n",
       "      <td>2981</td>\n",
       "    </tr>\n",
       "    <tr>\n",
       "      <th>1</th>\n",
       "      <td>중구</td>\n",
       "      <td>3</td>\n",
       "      <td>6</td>\n",
       "      <td>212</td>\n",
       "      <td>1520</td>\n",
       "      <td>1607</td>\n",
       "      <td>3348</td>\n",
       "    </tr>\n",
       "    <tr>\n",
       "      <th>2</th>\n",
       "      <td>용산구</td>\n",
       "      <td>3</td>\n",
       "      <td>3</td>\n",
       "      <td>245</td>\n",
       "      <td>978</td>\n",
       "      <td>1792</td>\n",
       "      <td>3021</td>\n",
       "    </tr>\n",
       "    <tr>\n",
       "      <th>3</th>\n",
       "      <td>성동구</td>\n",
       "      <td>2</td>\n",
       "      <td>2</td>\n",
       "      <td>119</td>\n",
       "      <td>893</td>\n",
       "      <td>1007</td>\n",
       "      <td>2023</td>\n",
       "    </tr>\n",
       "    <tr>\n",
       "      <th>4</th>\n",
       "      <td>광진구</td>\n",
       "      <td>2</td>\n",
       "      <td>5</td>\n",
       "      <td>238</td>\n",
       "      <td>1616</td>\n",
       "      <td>1563</td>\n",
       "      <td>3424</td>\n",
       "    </tr>\n",
       "  </tbody>\n",
       "</table>\n",
       "</div>"
      ],
      "text/plain": [
       "   자치구  살인  강도  강간·강제추행    절도    폭력  범죄_합계\n",
       "0  종로구   5   5      239  1169  1563   2981\n",
       "1   중구   3   6      212  1520  1607   3348\n",
       "2  용산구   3   3      245   978  1792   3021\n",
       "3  성동구   2   2      119   893  1007   2023\n",
       "4  광진구   2   5      238  1616  1563   3424"
      ]
     },
     "execution_count": 54,
     "metadata": {},
     "output_type": "execute_result"
    }
   ],
   "source": [
    "# 범죄 발생현황 데이터 로드 (CSV 파일 예시)\n",
    "crime_file = '서울시 5대범죄발생.csv'\n",
    "crime_data = pd.read_csv(crime_file, encoding='utf-8', sep='\\t')  # 파일 인코딩에 맞게 지정\n",
    "\n",
    "# 데이터 구조 확인 (예: 자치구별(1), 자치구별(2), 각 범죄 발생 건수 등)\n",
    "crime_data.head()"
   ]
  },
  {
   "cell_type": "code",
   "execution_count": 55,
   "metadata": {},
   "outputs": [
    {
     "data": {
      "text/html": [
       "<div>\n",
       "<style scoped>\n",
       "    .dataframe tbody tr th:only-of-type {\n",
       "        vertical-align: middle;\n",
       "    }\n",
       "\n",
       "    .dataframe tbody tr th {\n",
       "        vertical-align: top;\n",
       "    }\n",
       "\n",
       "    .dataframe thead th {\n",
       "        text-align: right;\n",
       "    }\n",
       "</style>\n",
       "<table border=\"1\" class=\"dataframe\">\n",
       "  <thead>\n",
       "    <tr style=\"text-align: right;\">\n",
       "      <th></th>\n",
       "      <th>연번</th>\n",
       "      <th>시도청</th>\n",
       "      <th>경찰서</th>\n",
       "      <th>관서명</th>\n",
       "      <th>구분</th>\n",
       "      <th>전화번호</th>\n",
       "      <th>주소</th>\n",
       "    </tr>\n",
       "  </thead>\n",
       "  <tbody>\n",
       "    <tr>\n",
       "      <th>0</th>\n",
       "      <td>1</td>\n",
       "      <td>서울청</td>\n",
       "      <td>서울중부</td>\n",
       "      <td>을지</td>\n",
       "      <td>지구대</td>\n",
       "      <td>02-2279-1908</td>\n",
       "      <td>서울특별시 중구  을지로 234</td>\n",
       "    </tr>\n",
       "    <tr>\n",
       "      <th>1</th>\n",
       "      <td>2</td>\n",
       "      <td>서울청</td>\n",
       "      <td>서울중부</td>\n",
       "      <td>광희</td>\n",
       "      <td>지구대</td>\n",
       "      <td>02-2233-1444</td>\n",
       "      <td>서울특별시 중구  퇴계로 375-1</td>\n",
       "    </tr>\n",
       "    <tr>\n",
       "      <th>2</th>\n",
       "      <td>3</td>\n",
       "      <td>서울청</td>\n",
       "      <td>서울중부</td>\n",
       "      <td>약수</td>\n",
       "      <td>지구대</td>\n",
       "      <td>02-2234-8112</td>\n",
       "      <td>서울특별시 중구  동호로 5길 15, 약수지구대</td>\n",
       "    </tr>\n",
       "    <tr>\n",
       "      <th>3</th>\n",
       "      <td>4</td>\n",
       "      <td>서울청</td>\n",
       "      <td>서울중부</td>\n",
       "      <td>신당</td>\n",
       "      <td>파출소</td>\n",
       "      <td>02-2252-0435</td>\n",
       "      <td>서울특별시 중구  다산로 248 (신당동, 신당파출소)</td>\n",
       "    </tr>\n",
       "    <tr>\n",
       "      <th>4</th>\n",
       "      <td>5</td>\n",
       "      <td>서울청</td>\n",
       "      <td>서울중부</td>\n",
       "      <td>장충</td>\n",
       "      <td>파출소</td>\n",
       "      <td>02-2274-9003</td>\n",
       "      <td>서울특별시 중구  동호로 261</td>\n",
       "    </tr>\n",
       "  </tbody>\n",
       "</table>\n",
       "</div>"
      ],
      "text/plain": [
       "   연번  시도청   경찰서 관서명   구분          전화번호                              주소\n",
       "0   1  서울청  서울중부  을지  지구대  02-2279-1908               서울특별시 중구  을지로 234\n",
       "1   2  서울청  서울중부  광희  지구대  02-2233-1444             서울특별시 중구  퇴계로 375-1\n",
       "2   3  서울청  서울중부  약수  지구대  02-2234-8112      서울특별시 중구  동호로 5길 15, 약수지구대\n",
       "3   4  서울청  서울중부  신당  파출소  02-2252-0435  서울특별시 중구  다산로 248 (신당동, 신당파출소)\n",
       "4   5  서울청  서울중부  장충  파출소  02-2274-9003               서울특별시 중구  동호로 261"
      ]
     },
     "execution_count": 55,
     "metadata": {},
     "output_type": "execute_result"
    }
   ],
   "source": [
    "# 파출소, 지구대 데이터 로드 (csv 파일 예시)\n",
    "police_file = '서울시 경찰청.csv'\n",
    "police_data = pd.read_csv(police_file, encoding='euc-kr')\n",
    "\n",
    "police_data.head()"
   ]
  },
  {
   "cell_type": "code",
   "execution_count": 59,
   "metadata": {},
   "outputs": [
    {
     "data": {
      "text/html": [
       "<div>\n",
       "<style scoped>\n",
       "    .dataframe tbody tr th:only-of-type {\n",
       "        vertical-align: middle;\n",
       "    }\n",
       "\n",
       "    .dataframe tbody tr th {\n",
       "        vertical-align: top;\n",
       "    }\n",
       "\n",
       "    .dataframe thead th {\n",
       "        text-align: right;\n",
       "    }\n",
       "</style>\n",
       "<table border=\"1\" class=\"dataframe\">\n",
       "  <thead>\n",
       "    <tr style=\"text-align: right;\">\n",
       "      <th></th>\n",
       "      <th>연번</th>\n",
       "      <th>시도청</th>\n",
       "      <th>경찰서</th>\n",
       "      <th>관서명</th>\n",
       "      <th>구분</th>\n",
       "      <th>전화번호</th>\n",
       "      <th>주소</th>\n",
       "    </tr>\n",
       "  </thead>\n",
       "  <tbody>\n",
       "    <tr>\n",
       "      <th>0</th>\n",
       "      <td>1</td>\n",
       "      <td>서울청</td>\n",
       "      <td>서울중부</td>\n",
       "      <td>을지</td>\n",
       "      <td>지구대</td>\n",
       "      <td>02-2279-1908</td>\n",
       "      <td>서울특별시 중구  을지로 234</td>\n",
       "    </tr>\n",
       "    <tr>\n",
       "      <th>1</th>\n",
       "      <td>2</td>\n",
       "      <td>서울청</td>\n",
       "      <td>서울중부</td>\n",
       "      <td>광희</td>\n",
       "      <td>지구대</td>\n",
       "      <td>02-2233-1444</td>\n",
       "      <td>서울특별시 중구  퇴계로 375-1</td>\n",
       "    </tr>\n",
       "    <tr>\n",
       "      <th>2</th>\n",
       "      <td>3</td>\n",
       "      <td>서울청</td>\n",
       "      <td>서울중부</td>\n",
       "      <td>약수</td>\n",
       "      <td>지구대</td>\n",
       "      <td>02-2234-8112</td>\n",
       "      <td>서울특별시 중구  동호로 5길 15, 약수지구대</td>\n",
       "    </tr>\n",
       "    <tr>\n",
       "      <th>3</th>\n",
       "      <td>4</td>\n",
       "      <td>서울청</td>\n",
       "      <td>서울중부</td>\n",
       "      <td>신당</td>\n",
       "      <td>파출소</td>\n",
       "      <td>02-2252-0435</td>\n",
       "      <td>서울특별시 중구  다산로 248 (신당동, 신당파출소)</td>\n",
       "    </tr>\n",
       "    <tr>\n",
       "      <th>4</th>\n",
       "      <td>5</td>\n",
       "      <td>서울청</td>\n",
       "      <td>서울중부</td>\n",
       "      <td>장충</td>\n",
       "      <td>파출소</td>\n",
       "      <td>02-2274-9003</td>\n",
       "      <td>서울특별시 중구  동호로 261</td>\n",
       "    </tr>\n",
       "    <tr>\n",
       "      <th>...</th>\n",
       "      <td>...</td>\n",
       "      <td>...</td>\n",
       "      <td>...</td>\n",
       "      <td>...</td>\n",
       "      <td>...</td>\n",
       "      <td>...</td>\n",
       "      <td>...</td>\n",
       "    </tr>\n",
       "    <tr>\n",
       "      <th>238</th>\n",
       "      <td>239</td>\n",
       "      <td>서울청</td>\n",
       "      <td>서울수서</td>\n",
       "      <td>대치</td>\n",
       "      <td>지구대</td>\n",
       "      <td>02-538-1312</td>\n",
       "      <td>서울특별시 강남구  삼성로 203</td>\n",
       "    </tr>\n",
       "    <tr>\n",
       "      <th>239</th>\n",
       "      <td>240</td>\n",
       "      <td>서울청</td>\n",
       "      <td>서울수서</td>\n",
       "      <td>수서</td>\n",
       "      <td>파출소</td>\n",
       "      <td>02-445-0112</td>\n",
       "      <td>서울특별시 강남구  밤고개로1길 48</td>\n",
       "    </tr>\n",
       "    <tr>\n",
       "      <th>240</th>\n",
       "      <td>241</td>\n",
       "      <td>서울청</td>\n",
       "      <td>서울수서</td>\n",
       "      <td>대왕</td>\n",
       "      <td>파출소</td>\n",
       "      <td>02-3411-0323</td>\n",
       "      <td>서울특별시 강남구  헌릉로 623</td>\n",
       "    </tr>\n",
       "    <tr>\n",
       "      <th>241</th>\n",
       "      <td>242</td>\n",
       "      <td>서울청</td>\n",
       "      <td>서울수서</td>\n",
       "      <td>일원</td>\n",
       "      <td>지구대</td>\n",
       "      <td>02-3411-0112</td>\n",
       "      <td>서울특별시 강남구  일원로3길 35 일원파출소</td>\n",
       "    </tr>\n",
       "    <tr>\n",
       "      <th>242</th>\n",
       "      <td>243</td>\n",
       "      <td>서울청</td>\n",
       "      <td>서울수서</td>\n",
       "      <td>개포</td>\n",
       "      <td>지구대</td>\n",
       "      <td>02-571-0112</td>\n",
       "      <td>서울특별시 강남구  개포로 261(1268)</td>\n",
       "    </tr>\n",
       "  </tbody>\n",
       "</table>\n",
       "<p>243 rows × 7 columns</p>\n",
       "</div>"
      ],
      "text/plain": [
       "      연번  시도청   경찰서 관서명   구분          전화번호                              주소\n",
       "0      1  서울청  서울중부  을지  지구대  02-2279-1908               서울특별시 중구  을지로 234\n",
       "1      2  서울청  서울중부  광희  지구대  02-2233-1444             서울특별시 중구  퇴계로 375-1\n",
       "2      3  서울청  서울중부  약수  지구대  02-2234-8112      서울특별시 중구  동호로 5길 15, 약수지구대\n",
       "3      4  서울청  서울중부  신당  파출소  02-2252-0435  서울특별시 중구  다산로 248 (신당동, 신당파출소)\n",
       "4      5  서울청  서울중부  장충  파출소  02-2274-9003               서울특별시 중구  동호로 261\n",
       "..   ...  ...   ...  ..  ...           ...                             ...\n",
       "238  239  서울청  서울수서  대치  지구대   02-538-1312              서울특별시 강남구  삼성로 203\n",
       "239  240  서울청  서울수서  수서  파출소   02-445-0112            서울특별시 강남구  밤고개로1길 48\n",
       "240  241  서울청  서울수서  대왕  파출소  02-3411-0323              서울특별시 강남구  헌릉로 623\n",
       "241  242  서울청  서울수서  일원  지구대  02-3411-0112       서울특별시 강남구  일원로3길 35 일원파출소\n",
       "242  243  서울청  서울수서  개포  지구대   02-571-0112        서울특별시 강남구  개포로 261(1268)\n",
       "\n",
       "[243 rows x 7 columns]"
      ]
     },
     "execution_count": 59,
     "metadata": {},
     "output_type": "execute_result"
    }
   ],
   "source": [
    "# 파출소, 지구대 데이터 로드 (csv 파일 예시)\n",
    "police_file = '서울시 경찰청.csv'\n",
    "police_data = pd.read_csv(police_file, encoding='euc-kr')\n",
    "\n",
    "# '시도청' 컬럼에서 '서울청'인 데이터만 필터링\n",
    "seoul_data = police_data[police_data['시도청'] == '서울청']\n",
    "\n",
    "seoul_data"
   ]
  },
  {
   "cell_type": "markdown",
   "metadata": {},
   "source": [
    "### 2️⃣ 데이터 전처리 및 정리\n",
    "\n",
    "✅ **필요한 작업**  - 필요한 컬럼정리 & 데이터 병합\n",
    "- 부동산 실거래가 데이터에서 자치구별 평균 거래 금액 계산  \n",
    "- 범죄 데이터에서 자치구별 총 범죄 발생 건수 정리  \n",
    "- CCTV 데이터에서 자치구별 CCTV 개수 정리  \n",
    "- 치안 시설 데이터에서 차안시설 개수 정리\n",
    "- 데이터셋 간 컬럼명 통일 (자치구 기준)"
   ]
  },
  {
   "cell_type": "code",
   "execution_count": 56,
   "metadata": {},
   "outputs": [
    {
     "name": "stderr",
     "output_type": "stream",
     "text": [
      "C:\\Users\\user\\AppData\\Local\\Temp\\ipykernel_50144\\572502328.py:3: DtypeWarning: Columns (7,8) have mixed types. Specify dtype option on import or set low_memory=False.\n",
      "  real_estate_data = pd.read_csv(real_estate_file, encoding='euc-kr')\n"
     ]
    },
    {
     "data": {
      "text/html": [
       "<div>\n",
       "<style scoped>\n",
       "    .dataframe tbody tr th:only-of-type {\n",
       "        vertical-align: middle;\n",
       "    }\n",
       "\n",
       "    .dataframe tbody tr th {\n",
       "        vertical-align: top;\n",
       "    }\n",
       "\n",
       "    .dataframe thead th {\n",
       "        text-align: right;\n",
       "    }\n",
       "</style>\n",
       "<table border=\"1\" class=\"dataframe\">\n",
       "  <thead>\n",
       "    <tr style=\"text-align: right;\">\n",
       "      <th></th>\n",
       "      <th>자치구</th>\n",
       "      <th>평균거래금액</th>\n",
       "      <th>평균건물면적</th>\n",
       "      <th>평균건축년도</th>\n",
       "    </tr>\n",
       "  </thead>\n",
       "  <tbody>\n",
       "    <tr>\n",
       "      <th>0</th>\n",
       "      <td>강남구</td>\n",
       "      <td>175249.427417</td>\n",
       "      <td>79.076040</td>\n",
       "      <td>1969.486368</td>\n",
       "    </tr>\n",
       "    <tr>\n",
       "      <th>1</th>\n",
       "      <td>강동구</td>\n",
       "      <td>74539.098009</td>\n",
       "      <td>62.631046</td>\n",
       "      <td>1950.334511</td>\n",
       "    </tr>\n",
       "    <tr>\n",
       "      <th>2</th>\n",
       "      <td>강북구</td>\n",
       "      <td>36790.413714</td>\n",
       "      <td>59.379247</td>\n",
       "      <td>1989.167861</td>\n",
       "    </tr>\n",
       "    <tr>\n",
       "      <th>3</th>\n",
       "      <td>강서구</td>\n",
       "      <td>41237.221077</td>\n",
       "      <td>50.553006</td>\n",
       "      <td>2007.690953</td>\n",
       "    </tr>\n",
       "    <tr>\n",
       "      <th>4</th>\n",
       "      <td>관악구</td>\n",
       "      <td>48789.376776</td>\n",
       "      <td>66.181239</td>\n",
       "      <td>1998.160375</td>\n",
       "    </tr>\n",
       "    <tr>\n",
       "      <th>5</th>\n",
       "      <td>광진구</td>\n",
       "      <td>74112.636846</td>\n",
       "      <td>69.432226</td>\n",
       "      <td>1980.390351</td>\n",
       "    </tr>\n",
       "    <tr>\n",
       "      <th>6</th>\n",
       "      <td>구로구</td>\n",
       "      <td>43640.239348</td>\n",
       "      <td>57.414521</td>\n",
       "      <td>2003.107029</td>\n",
       "    </tr>\n",
       "    <tr>\n",
       "      <th>7</th>\n",
       "      <td>금천구</td>\n",
       "      <td>37890.772739</td>\n",
       "      <td>52.108477</td>\n",
       "      <td>2012.116243</td>\n",
       "    </tr>\n",
       "    <tr>\n",
       "      <th>8</th>\n",
       "      <td>노원구</td>\n",
       "      <td>55159.558606</td>\n",
       "      <td>62.006903</td>\n",
       "      <td>1994.416388</td>\n",
       "    </tr>\n",
       "    <tr>\n",
       "      <th>9</th>\n",
       "      <td>도봉구</td>\n",
       "      <td>38065.337139</td>\n",
       "      <td>62.258850</td>\n",
       "      <td>1999.531868</td>\n",
       "    </tr>\n",
       "    <tr>\n",
       "      <th>10</th>\n",
       "      <td>동대문구</td>\n",
       "      <td>62288.451220</td>\n",
       "      <td>64.781042</td>\n",
       "      <td>1940.102780</td>\n",
       "    </tr>\n",
       "    <tr>\n",
       "      <th>11</th>\n",
       "      <td>동작구</td>\n",
       "      <td>78693.155893</td>\n",
       "      <td>67.894456</td>\n",
       "      <td>1985.158818</td>\n",
       "    </tr>\n",
       "    <tr>\n",
       "      <th>12</th>\n",
       "      <td>마포구</td>\n",
       "      <td>79567.040657</td>\n",
       "      <td>60.168861</td>\n",
       "      <td>1983.818214</td>\n",
       "    </tr>\n",
       "    <tr>\n",
       "      <th>13</th>\n",
       "      <td>서대문구</td>\n",
       "      <td>64582.288360</td>\n",
       "      <td>64.549984</td>\n",
       "      <td>2003.551511</td>\n",
       "    </tr>\n",
       "    <tr>\n",
       "      <th>14</th>\n",
       "      <td>서초구</td>\n",
       "      <td>159972.466543</td>\n",
       "      <td>75.060398</td>\n",
       "      <td>1991.423148</td>\n",
       "    </tr>\n",
       "    <tr>\n",
       "      <th>15</th>\n",
       "      <td>성동구</td>\n",
       "      <td>122804.979214</td>\n",
       "      <td>75.698076</td>\n",
       "      <td>1994.117491</td>\n",
       "    </tr>\n",
       "    <tr>\n",
       "      <th>16</th>\n",
       "      <td>성북구</td>\n",
       "      <td>64624.189311</td>\n",
       "      <td>72.747125</td>\n",
       "      <td>1995.559771</td>\n",
       "    </tr>\n",
       "    <tr>\n",
       "      <th>17</th>\n",
       "      <td>송파구</td>\n",
       "      <td>105114.596838</td>\n",
       "      <td>67.085016</td>\n",
       "      <td>2003.032982</td>\n",
       "    </tr>\n",
       "    <tr>\n",
       "      <th>18</th>\n",
       "      <td>양천구</td>\n",
       "      <td>72124.809811</td>\n",
       "      <td>64.810635</td>\n",
       "      <td>2002.822886</td>\n",
       "    </tr>\n",
       "    <tr>\n",
       "      <th>19</th>\n",
       "      <td>영등포구</td>\n",
       "      <td>76448.345747</td>\n",
       "      <td>61.606554</td>\n",
       "      <td>1999.023536</td>\n",
       "    </tr>\n",
       "    <tr>\n",
       "      <th>20</th>\n",
       "      <td>용산구</td>\n",
       "      <td>159554.119372</td>\n",
       "      <td>83.948502</td>\n",
       "      <td>1998.813546</td>\n",
       "    </tr>\n",
       "    <tr>\n",
       "      <th>21</th>\n",
       "      <td>은평구</td>\n",
       "      <td>46061.352019</td>\n",
       "      <td>57.516012</td>\n",
       "      <td>1989.769396</td>\n",
       "    </tr>\n",
       "    <tr>\n",
       "      <th>22</th>\n",
       "      <td>종로구</td>\n",
       "      <td>70475.616528</td>\n",
       "      <td>69.724773</td>\n",
       "      <td>2001.131785</td>\n",
       "    </tr>\n",
       "    <tr>\n",
       "      <th>23</th>\n",
       "      <td>중구</td>\n",
       "      <td>75016.632878</td>\n",
       "      <td>63.949920</td>\n",
       "      <td>1979.071470</td>\n",
       "    </tr>\n",
       "    <tr>\n",
       "      <th>24</th>\n",
       "      <td>중랑구</td>\n",
       "      <td>45769.851034</td>\n",
       "      <td>60.654311</td>\n",
       "      <td>1999.330731</td>\n",
       "    </tr>\n",
       "  </tbody>\n",
       "</table>\n",
       "</div>"
      ],
      "text/plain": [
       "     자치구         평균거래금액     평균건물면적       평균건축년도\n",
       "0    강남구  175249.427417  79.076040  1969.486368\n",
       "1    강동구   74539.098009  62.631046  1950.334511\n",
       "2    강북구   36790.413714  59.379247  1989.167861\n",
       "3    강서구   41237.221077  50.553006  2007.690953\n",
       "4    관악구   48789.376776  66.181239  1998.160375\n",
       "5    광진구   74112.636846  69.432226  1980.390351\n",
       "6    구로구   43640.239348  57.414521  2003.107029\n",
       "7    금천구   37890.772739  52.108477  2012.116243\n",
       "8    노원구   55159.558606  62.006903  1994.416388\n",
       "9    도봉구   38065.337139  62.258850  1999.531868\n",
       "10  동대문구   62288.451220  64.781042  1940.102780\n",
       "11   동작구   78693.155893  67.894456  1985.158818\n",
       "12   마포구   79567.040657  60.168861  1983.818214\n",
       "13  서대문구   64582.288360  64.549984  2003.551511\n",
       "14   서초구  159972.466543  75.060398  1991.423148\n",
       "15   성동구  122804.979214  75.698076  1994.117491\n",
       "16   성북구   64624.189311  72.747125  1995.559771\n",
       "17   송파구  105114.596838  67.085016  2003.032982\n",
       "18   양천구   72124.809811  64.810635  2002.822886\n",
       "19  영등포구   76448.345747  61.606554  1999.023536\n",
       "20   용산구  159554.119372  83.948502  1998.813546\n",
       "21   은평구   46061.352019  57.516012  1989.769396\n",
       "22   종로구   70475.616528  69.724773  2001.131785\n",
       "23    중구   75016.632878  63.949920  1979.071470\n",
       "24   중랑구   45769.851034  60.654311  1999.330731"
      ]
     },
     "execution_count": 56,
     "metadata": {},
     "output_type": "execute_result"
    }
   ],
   "source": [
    "# 부동산 실거래가 데이터 로드 (CSV 파일)\n",
    "real_estate_file = '서울시 부동산 실거래가 정보(2022~2025).csv'\n",
    "real_estate_data = pd.read_csv(real_estate_file, encoding='euc-kr')\n",
    "\n",
    "# 필요한 컬럼 선택 (예: 자치구명, 법정동명, 계약일, 물건금액(만원), 건물면적(㎡), 층, 건축년도)\n",
    "real_estate_data = real_estate_data[['자치구명', '법정동명', '계약일', '물건금액(만원)', '건물면적(㎡)', '층', '건축년도']]\n",
    "\n",
    "# 자치구명을 기준으로 분석할 것이므로, 컬럼명을 '자치구'로 재설정\n",
    "real_estate_data.rename(columns={'자치구명': '자치구'}, inplace=True)\n",
    "\n",
    "# 🔹 자치구별 평균 거래금액, 건물 면적, 건축년도 평균 산출\n",
    "real_estate_grouped_data = real_estate_data.groupby('자치구').agg({\n",
    "    '물건금액(만원)': 'mean',\n",
    "    '건물면적(㎡)': 'mean',\n",
    "    '건축년도': 'mean'\n",
    "}).reset_index()\n",
    "\n",
    "# 🔹 컬럼명 변경\n",
    "real_estate_grouped_data.rename(columns={\n",
    "    '물건금액(만원)': '평균거래금액',\n",
    "    '건물면적(㎡)': '평균건물면적',\n",
    "    '건축년도': '평균건축년도'\n",
    "}, inplace=True)\n",
    "\n",
    "# 결과 확인\n",
    "real_estate_grouped_data\n"
   ]
  },
  {
   "cell_type": "code",
   "execution_count": 57,
   "metadata": {},
   "outputs": [
    {
     "data": {
      "text/html": [
       "<div>\n",
       "<style scoped>\n",
       "    .dataframe tbody tr th:only-of-type {\n",
       "        vertical-align: middle;\n",
       "    }\n",
       "\n",
       "    .dataframe tbody tr th {\n",
       "        vertical-align: top;\n",
       "    }\n",
       "\n",
       "    .dataframe thead th {\n",
       "        text-align: right;\n",
       "    }\n",
       "</style>\n",
       "<table border=\"1\" class=\"dataframe\">\n",
       "  <thead>\n",
       "    <tr style=\"text-align: right;\">\n",
       "      <th></th>\n",
       "      <th>자치구</th>\n",
       "      <th>CCTV_총계</th>\n",
       "    </tr>\n",
       "  </thead>\n",
       "  <tbody>\n",
       "    <tr>\n",
       "      <th>0</th>\n",
       "      <td>종로구</td>\n",
       "      <td>2339</td>\n",
       "    </tr>\n",
       "    <tr>\n",
       "      <th>1</th>\n",
       "      <td>중구</td>\n",
       "      <td>3118</td>\n",
       "    </tr>\n",
       "    <tr>\n",
       "      <th>2</th>\n",
       "      <td>용산구</td>\n",
       "      <td>3609</td>\n",
       "    </tr>\n",
       "    <tr>\n",
       "      <th>3</th>\n",
       "      <td>성동구</td>\n",
       "      <td>4638</td>\n",
       "    </tr>\n",
       "    <tr>\n",
       "      <th>4</th>\n",
       "      <td>광진구</td>\n",
       "      <td>4636</td>\n",
       "    </tr>\n",
       "    <tr>\n",
       "      <th>5</th>\n",
       "      <td>동대문구</td>\n",
       "      <td>3846</td>\n",
       "    </tr>\n",
       "    <tr>\n",
       "      <th>6</th>\n",
       "      <td>중랑구</td>\n",
       "      <td>5392</td>\n",
       "    </tr>\n",
       "    <tr>\n",
       "      <th>7</th>\n",
       "      <td>성북구</td>\n",
       "      <td>4906</td>\n",
       "    </tr>\n",
       "    <tr>\n",
       "      <th>8</th>\n",
       "      <td>강북구</td>\n",
       "      <td>3584</td>\n",
       "    </tr>\n",
       "    <tr>\n",
       "      <th>9</th>\n",
       "      <td>도봉구</td>\n",
       "      <td>2808</td>\n",
       "    </tr>\n",
       "    <tr>\n",
       "      <th>10</th>\n",
       "      <td>노원구</td>\n",
       "      <td>4105</td>\n",
       "    </tr>\n",
       "    <tr>\n",
       "      <th>11</th>\n",
       "      <td>은평구</td>\n",
       "      <td>5683</td>\n",
       "    </tr>\n",
       "    <tr>\n",
       "      <th>12</th>\n",
       "      <td>서대문구</td>\n",
       "      <td>4218</td>\n",
       "    </tr>\n",
       "    <tr>\n",
       "      <th>13</th>\n",
       "      <td>마포구</td>\n",
       "      <td>3809</td>\n",
       "    </tr>\n",
       "    <tr>\n",
       "      <th>14</th>\n",
       "      <td>양천구</td>\n",
       "      <td>4854</td>\n",
       "    </tr>\n",
       "    <tr>\n",
       "      <th>15</th>\n",
       "      <td>강서구</td>\n",
       "      <td>3874</td>\n",
       "    </tr>\n",
       "    <tr>\n",
       "      <th>16</th>\n",
       "      <td>구로구</td>\n",
       "      <td>5694</td>\n",
       "    </tr>\n",
       "    <tr>\n",
       "      <th>17</th>\n",
       "      <td>금천구</td>\n",
       "      <td>3458</td>\n",
       "    </tr>\n",
       "    <tr>\n",
       "      <th>18</th>\n",
       "      <td>영등포구</td>\n",
       "      <td>5133</td>\n",
       "    </tr>\n",
       "    <tr>\n",
       "      <th>19</th>\n",
       "      <td>동작구</td>\n",
       "      <td>3664</td>\n",
       "    </tr>\n",
       "    <tr>\n",
       "      <th>20</th>\n",
       "      <td>관악구</td>\n",
       "      <td>6614</td>\n",
       "    </tr>\n",
       "    <tr>\n",
       "      <th>21</th>\n",
       "      <td>서초구</td>\n",
       "      <td>6036</td>\n",
       "    </tr>\n",
       "    <tr>\n",
       "      <th>22</th>\n",
       "      <td>강남구</td>\n",
       "      <td>8352</td>\n",
       "    </tr>\n",
       "    <tr>\n",
       "      <th>23</th>\n",
       "      <td>송파구</td>\n",
       "      <td>4665</td>\n",
       "    </tr>\n",
       "    <tr>\n",
       "      <th>24</th>\n",
       "      <td>강동구</td>\n",
       "      <td>4238</td>\n",
       "    </tr>\n",
       "  </tbody>\n",
       "</table>\n",
       "</div>"
      ],
      "text/plain": [
       "     자치구  CCTV_총계\n",
       "0    종로구     2339\n",
       "1     중구     3118\n",
       "2    용산구     3609\n",
       "3    성동구     4638\n",
       "4    광진구     4636\n",
       "5   동대문구     3846\n",
       "6    중랑구     5392\n",
       "7    성북구     4906\n",
       "8    강북구     3584\n",
       "9    도봉구     2808\n",
       "10   노원구     4105\n",
       "11   은평구     5683\n",
       "12  서대문구     4218\n",
       "13   마포구     3809\n",
       "14   양천구     4854\n",
       "15   강서구     3874\n",
       "16   구로구     5694\n",
       "17   금천구     3458\n",
       "18  영등포구     5133\n",
       "19   동작구     3664\n",
       "20   관악구     6614\n",
       "21   서초구     6036\n",
       "22   강남구     8352\n",
       "23   송파구     4665\n",
       "24   강동구     4238"
      ]
     },
     "execution_count": 57,
     "metadata": {},
     "output_type": "execute_result"
    }
   ],
   "source": [
    "# CCTV 데이터 로드 (CSV 파일)\n",
    "cctv_file = '서울시 자치구cctv.csv'\n",
    "cctv_data = pd.read_csv(cctv_file, encoding='utf-8-sig')\n",
    "# 파일의 컬럼은 이미 '자치구'와 'CCTV_총계'로 구성되어 있음\n",
    "\n",
    "# 결과 확인\n",
    "cctv_data\n"
   ]
  },
  {
   "cell_type": "code",
   "execution_count": 58,
   "metadata": {},
   "outputs": [
    {
     "data": {
      "text/html": [
       "<div>\n",
       "<style scoped>\n",
       "    .dataframe tbody tr th:only-of-type {\n",
       "        vertical-align: middle;\n",
       "    }\n",
       "\n",
       "    .dataframe tbody tr th {\n",
       "        vertical-align: top;\n",
       "    }\n",
       "\n",
       "    .dataframe thead th {\n",
       "        text-align: right;\n",
       "    }\n",
       "</style>\n",
       "<table border=\"1\" class=\"dataframe\">\n",
       "  <thead>\n",
       "    <tr style=\"text-align: right;\">\n",
       "      <th></th>\n",
       "      <th>자치구</th>\n",
       "      <th>범죄_합계</th>\n",
       "    </tr>\n",
       "  </thead>\n",
       "  <tbody>\n",
       "    <tr>\n",
       "      <th>0</th>\n",
       "      <td>종로구</td>\n",
       "      <td>2981</td>\n",
       "    </tr>\n",
       "    <tr>\n",
       "      <th>1</th>\n",
       "      <td>중구</td>\n",
       "      <td>3348</td>\n",
       "    </tr>\n",
       "    <tr>\n",
       "      <th>2</th>\n",
       "      <td>용산구</td>\n",
       "      <td>3021</td>\n",
       "    </tr>\n",
       "    <tr>\n",
       "      <th>3</th>\n",
       "      <td>성동구</td>\n",
       "      <td>2023</td>\n",
       "    </tr>\n",
       "    <tr>\n",
       "      <th>4</th>\n",
       "      <td>광진구</td>\n",
       "      <td>3424</td>\n",
       "    </tr>\n",
       "    <tr>\n",
       "      <th>5</th>\n",
       "      <td>동대문구</td>\n",
       "      <td>2957</td>\n",
       "    </tr>\n",
       "    <tr>\n",
       "      <th>6</th>\n",
       "      <td>중랑구</td>\n",
       "      <td>3324</td>\n",
       "    </tr>\n",
       "    <tr>\n",
       "      <th>7</th>\n",
       "      <td>성북구</td>\n",
       "      <td>2411</td>\n",
       "    </tr>\n",
       "    <tr>\n",
       "      <th>8</th>\n",
       "      <td>강북구</td>\n",
       "      <td>2497</td>\n",
       "    </tr>\n",
       "    <tr>\n",
       "      <th>9</th>\n",
       "      <td>도봉구</td>\n",
       "      <td>1921</td>\n",
       "    </tr>\n",
       "    <tr>\n",
       "      <th>10</th>\n",
       "      <td>노원구</td>\n",
       "      <td>3567</td>\n",
       "    </tr>\n",
       "    <tr>\n",
       "      <th>11</th>\n",
       "      <td>은평구</td>\n",
       "      <td>3493</td>\n",
       "    </tr>\n",
       "    <tr>\n",
       "      <th>12</th>\n",
       "      <td>서대문구</td>\n",
       "      <td>2385</td>\n",
       "    </tr>\n",
       "    <tr>\n",
       "      <th>13</th>\n",
       "      <td>마포구</td>\n",
       "      <td>3834</td>\n",
       "    </tr>\n",
       "    <tr>\n",
       "      <th>14</th>\n",
       "      <td>양천구</td>\n",
       "      <td>3019</td>\n",
       "    </tr>\n",
       "    <tr>\n",
       "      <th>15</th>\n",
       "      <td>강서구</td>\n",
       "      <td>4296</td>\n",
       "    </tr>\n",
       "    <tr>\n",
       "      <th>16</th>\n",
       "      <td>구로구</td>\n",
       "      <td>3737</td>\n",
       "    </tr>\n",
       "    <tr>\n",
       "      <th>17</th>\n",
       "      <td>금천구</td>\n",
       "      <td>2240</td>\n",
       "    </tr>\n",
       "    <tr>\n",
       "      <th>18</th>\n",
       "      <td>영등포구</td>\n",
       "      <td>4418</td>\n",
       "    </tr>\n",
       "    <tr>\n",
       "      <th>19</th>\n",
       "      <td>동작구</td>\n",
       "      <td>2642</td>\n",
       "    </tr>\n",
       "    <tr>\n",
       "      <th>20</th>\n",
       "      <td>관악구</td>\n",
       "      <td>4769</td>\n",
       "    </tr>\n",
       "    <tr>\n",
       "      <th>21</th>\n",
       "      <td>서초구</td>\n",
       "      <td>4522</td>\n",
       "    </tr>\n",
       "    <tr>\n",
       "      <th>22</th>\n",
       "      <td>강남구</td>\n",
       "      <td>6763</td>\n",
       "    </tr>\n",
       "    <tr>\n",
       "      <th>23</th>\n",
       "      <td>송파구</td>\n",
       "      <td>5223</td>\n",
       "    </tr>\n",
       "    <tr>\n",
       "      <th>24</th>\n",
       "      <td>강동구</td>\n",
       "      <td>3398</td>\n",
       "    </tr>\n",
       "  </tbody>\n",
       "</table>\n",
       "</div>"
      ],
      "text/plain": [
       "     자치구  범죄_합계\n",
       "0    종로구   2981\n",
       "1     중구   3348\n",
       "2    용산구   3021\n",
       "3    성동구   2023\n",
       "4    광진구   3424\n",
       "5   동대문구   2957\n",
       "6    중랑구   3324\n",
       "7    성북구   2411\n",
       "8    강북구   2497\n",
       "9    도봉구   1921\n",
       "10   노원구   3567\n",
       "11   은평구   3493\n",
       "12  서대문구   2385\n",
       "13   마포구   3834\n",
       "14   양천구   3019\n",
       "15   강서구   4296\n",
       "16   구로구   3737\n",
       "17   금천구   2240\n",
       "18  영등포구   4418\n",
       "19   동작구   2642\n",
       "20   관악구   4769\n",
       "21   서초구   4522\n",
       "22   강남구   6763\n",
       "23   송파구   5223\n",
       "24   강동구   3398"
      ]
     },
     "execution_count": 58,
     "metadata": {},
     "output_type": "execute_result"
    }
   ],
   "source": [
    "# 범죄 발생현황 데이터 로드 (CSV 파일 예시)\n",
    "crime_file = '서울시 5대범죄발생.csv'\n",
    "crime_data = pd.read_csv(crime_file, encoding='utf-8', sep='\\t')  # 파일 인코딩에 맞게 지정\n",
    "\n",
    "crime_data = crime_data[['자치구', '범죄_합계']]\n",
    "# 데이터 구조 확인 (예: 자치구별(1), 자치구별(2), 각 범죄 발생 건수 등)\n",
    "crime_data"
   ]
  },
  {
   "cell_type": "code",
   "execution_count": 60,
   "metadata": {},
   "outputs": [
    {
     "name": "stderr",
     "output_type": "stream",
     "text": [
      "C:\\Users\\user\\AppData\\Local\\Temp\\ipykernel_50144\\1772231041.py:5: SettingWithCopyWarning: \n",
      "A value is trying to be set on a copy of a slice from a DataFrame.\n",
      "Try using .loc[row_indexer,col_indexer] = value instead\n",
      "\n",
      "See the caveats in the documentation: https://pandas.pydata.org/pandas-docs/stable/user_guide/indexing.html#returning-a-view-versus-a-copy\n",
      "  seoul_data['구'] = seoul_data['주소'].str.split().str[1]\n"
     ]
    },
    {
     "data": {
      "text/html": [
       "<div>\n",
       "<style scoped>\n",
       "    .dataframe tbody tr th:only-of-type {\n",
       "        vertical-align: middle;\n",
       "    }\n",
       "\n",
       "    .dataframe tbody tr th {\n",
       "        vertical-align: top;\n",
       "    }\n",
       "\n",
       "    .dataframe thead th {\n",
       "        text-align: right;\n",
       "    }\n",
       "</style>\n",
       "<table border=\"1\" class=\"dataframe\">\n",
       "  <thead>\n",
       "    <tr style=\"text-align: right;\">\n",
       "      <th></th>\n",
       "      <th>자치구</th>\n",
       "      <th>치안시설_합계</th>\n",
       "    </tr>\n",
       "  </thead>\n",
       "  <tbody>\n",
       "    <tr>\n",
       "      <th>0</th>\n",
       "      <td>종로구</td>\n",
       "      <td>20</td>\n",
       "    </tr>\n",
       "    <tr>\n",
       "      <th>1</th>\n",
       "      <td>중구</td>\n",
       "      <td>15</td>\n",
       "    </tr>\n",
       "    <tr>\n",
       "      <th>2</th>\n",
       "      <td>강남구</td>\n",
       "      <td>14</td>\n",
       "    </tr>\n",
       "    <tr>\n",
       "      <th>3</th>\n",
       "      <td>송파구</td>\n",
       "      <td>11</td>\n",
       "    </tr>\n",
       "    <tr>\n",
       "      <th>4</th>\n",
       "      <td>서초구</td>\n",
       "      <td>11</td>\n",
       "    </tr>\n",
       "    <tr>\n",
       "      <th>5</th>\n",
       "      <td>동대문구</td>\n",
       "      <td>11</td>\n",
       "    </tr>\n",
       "    <tr>\n",
       "      <th>6</th>\n",
       "      <td>성북구</td>\n",
       "      <td>10</td>\n",
       "    </tr>\n",
       "    <tr>\n",
       "      <th>7</th>\n",
       "      <td>영등포구</td>\n",
       "      <td>10</td>\n",
       "    </tr>\n",
       "    <tr>\n",
       "      <th>8</th>\n",
       "      <td>강서구</td>\n",
       "      <td>10</td>\n",
       "    </tr>\n",
       "    <tr>\n",
       "      <th>9</th>\n",
       "      <td>광진구</td>\n",
       "      <td>10</td>\n",
       "    </tr>\n",
       "    <tr>\n",
       "      <th>10</th>\n",
       "      <td>강동구</td>\n",
       "      <td>9</td>\n",
       "    </tr>\n",
       "    <tr>\n",
       "      <th>11</th>\n",
       "      <td>양천구</td>\n",
       "      <td>9</td>\n",
       "    </tr>\n",
       "    <tr>\n",
       "      <th>12</th>\n",
       "      <td>관악구</td>\n",
       "      <td>9</td>\n",
       "    </tr>\n",
       "    <tr>\n",
       "      <th>13</th>\n",
       "      <td>강북구</td>\n",
       "      <td>9</td>\n",
       "    </tr>\n",
       "    <tr>\n",
       "      <th>14</th>\n",
       "      <td>은평구</td>\n",
       "      <td>9</td>\n",
       "    </tr>\n",
       "    <tr>\n",
       "      <th>15</th>\n",
       "      <td>성동구</td>\n",
       "      <td>9</td>\n",
       "    </tr>\n",
       "    <tr>\n",
       "      <th>16</th>\n",
       "      <td>중랑구</td>\n",
       "      <td>8</td>\n",
       "    </tr>\n",
       "    <tr>\n",
       "      <th>17</th>\n",
       "      <td>마포구</td>\n",
       "      <td>8</td>\n",
       "    </tr>\n",
       "    <tr>\n",
       "      <th>18</th>\n",
       "      <td>구로구</td>\n",
       "      <td>8</td>\n",
       "    </tr>\n",
       "    <tr>\n",
       "      <th>19</th>\n",
       "      <td>서대문구</td>\n",
       "      <td>8</td>\n",
       "    </tr>\n",
       "    <tr>\n",
       "      <th>20</th>\n",
       "      <td>노원구</td>\n",
       "      <td>8</td>\n",
       "    </tr>\n",
       "    <tr>\n",
       "      <th>21</th>\n",
       "      <td>도봉구</td>\n",
       "      <td>8</td>\n",
       "    </tr>\n",
       "    <tr>\n",
       "      <th>22</th>\n",
       "      <td>동작구</td>\n",
       "      <td>7</td>\n",
       "    </tr>\n",
       "    <tr>\n",
       "      <th>23</th>\n",
       "      <td>용산구</td>\n",
       "      <td>7</td>\n",
       "    </tr>\n",
       "    <tr>\n",
       "      <th>24</th>\n",
       "      <td>금천구</td>\n",
       "      <td>5</td>\n",
       "    </tr>\n",
       "  </tbody>\n",
       "</table>\n",
       "</div>"
      ],
      "text/plain": [
       "     자치구  치안시설_합계\n",
       "0    종로구       20\n",
       "1     중구       15\n",
       "2    강남구       14\n",
       "3    송파구       11\n",
       "4    서초구       11\n",
       "5   동대문구       11\n",
       "6    성북구       10\n",
       "7   영등포구       10\n",
       "8    강서구       10\n",
       "9    광진구       10\n",
       "10   강동구        9\n",
       "11   양천구        9\n",
       "12   관악구        9\n",
       "13   강북구        9\n",
       "14   은평구        9\n",
       "15   성동구        9\n",
       "16   중랑구        8\n",
       "17   마포구        8\n",
       "18   구로구        8\n",
       "19  서대문구        8\n",
       "20   노원구        8\n",
       "21   도봉구        8\n",
       "22   동작구        7\n",
       "23   용산구        7\n",
       "24   금천구        5"
      ]
     },
     "execution_count": 60,
     "metadata": {},
     "output_type": "execute_result"
    }
   ],
   "source": [
    "# '시도청' 컬럼에서 '서울청'인 데이터만 필터링\n",
    "seoul_data = police_data[police_data['시도청'] == '서울청']\n",
    "\n",
    "# 주소에서 구 이름 추출 (예: '서울특별시 중구 을지로 234' → '중구')\n",
    "seoul_data['구'] = seoul_data['주소'].str.split().str[1]\n",
    "\n",
    "# 구별 개수 세기\n",
    "gu_data = seoul_data['구'].value_counts().reset_index()\n",
    "gu_data.columns = ['자치구', '치안시설_합계']\n",
    "\n",
    "# 결과 출력\n",
    "gu_data"
   ]
  },
  {
   "cell_type": "markdown",
   "metadata": {},
   "source": [
    "* 데이터 행 뽑아보기"
   ]
  },
  {
   "cell_type": "code",
   "execution_count": 61,
   "metadata": {},
   "outputs": [
    {
     "data": {
      "text/plain": [
       "Index(['자치구', 'CCTV_총계'], dtype='object')"
      ]
     },
     "execution_count": 61,
     "metadata": {},
     "output_type": "execute_result"
    }
   ],
   "source": [
    "cctv_data.columns"
   ]
  },
  {
   "cell_type": "code",
   "execution_count": 62,
   "metadata": {},
   "outputs": [
    {
     "data": {
      "text/plain": [
       "Index(['자치구', '법정동명', '계약일', '물건금액(만원)', '건물면적(㎡)', '층', '건축년도'], dtype='object')"
      ]
     },
     "execution_count": 62,
     "metadata": {},
     "output_type": "execute_result"
    }
   ],
   "source": [
    "real_estate_data.columns"
   ]
  },
  {
   "cell_type": "code",
   "execution_count": 63,
   "metadata": {},
   "outputs": [
    {
     "data": {
      "text/plain": [
       "Index(['자치구', '범죄_합계'], dtype='object')"
      ]
     },
     "execution_count": 63,
     "metadata": {},
     "output_type": "execute_result"
    }
   ],
   "source": [
    "crime_data.columns"
   ]
  },
  {
   "cell_type": "code",
   "execution_count": 87,
   "metadata": {},
   "outputs": [
    {
     "data": {
      "text/plain": [
       "Index(['구', '개수'], dtype='object')"
      ]
     },
     "execution_count": 87,
     "metadata": {},
     "output_type": "execute_result"
    }
   ],
   "source": [
    "police_data.columns"
   ]
  },
  {
   "cell_type": "markdown",
   "metadata": {},
   "source": [
    "> 📌 자치구 기준 데이터 병합 - 데이터 셋 간 컬럼 명 통일 자치구 맞춤"
   ]
  },
  {
   "cell_type": "code",
   "execution_count": 64,
   "metadata": {},
   "outputs": [],
   "source": [
    "# 데이터 병합 (자치구 기준)\n",
    "merged_data = crime_data.merge(cctv_data, on='자치구').merge(real_estate_grouped_data, on='자치구').merge(gu_data, on='자치구')\n",
    "\n",
    "# 🔹 위험도 계산 (총범죄발생 / CCTV 개수)\n",
    "merged_data[\"위험도\"] = merged_data[\"범죄_합계\"] / (merged_data[\"CCTV_총계\"] + 1)"
   ]
  },
  {
   "cell_type": "code",
   "execution_count": 65,
   "metadata": {},
   "outputs": [
    {
     "data": {
      "text/html": [
       "<div>\n",
       "<style scoped>\n",
       "    .dataframe tbody tr th:only-of-type {\n",
       "        vertical-align: middle;\n",
       "    }\n",
       "\n",
       "    .dataframe tbody tr th {\n",
       "        vertical-align: top;\n",
       "    }\n",
       "\n",
       "    .dataframe thead th {\n",
       "        text-align: right;\n",
       "    }\n",
       "</style>\n",
       "<table border=\"1\" class=\"dataframe\">\n",
       "  <thead>\n",
       "    <tr style=\"text-align: right;\">\n",
       "      <th></th>\n",
       "      <th>자치구</th>\n",
       "      <th>범죄_합계</th>\n",
       "      <th>CCTV_총계</th>\n",
       "      <th>평균거래금액</th>\n",
       "      <th>평균건물면적</th>\n",
       "      <th>평균건축년도</th>\n",
       "      <th>치안시설_합계</th>\n",
       "      <th>위험도</th>\n",
       "    </tr>\n",
       "  </thead>\n",
       "  <tbody>\n",
       "    <tr>\n",
       "      <th>0</th>\n",
       "      <td>종로구</td>\n",
       "      <td>2981</td>\n",
       "      <td>2339</td>\n",
       "      <td>70475.616528</td>\n",
       "      <td>69.724773</td>\n",
       "      <td>2001.131785</td>\n",
       "      <td>20</td>\n",
       "      <td>1.273932</td>\n",
       "    </tr>\n",
       "    <tr>\n",
       "      <th>1</th>\n",
       "      <td>중구</td>\n",
       "      <td>3348</td>\n",
       "      <td>3118</td>\n",
       "      <td>75016.632878</td>\n",
       "      <td>63.949920</td>\n",
       "      <td>1979.071470</td>\n",
       "      <td>15</td>\n",
       "      <td>1.073421</td>\n",
       "    </tr>\n",
       "    <tr>\n",
       "      <th>2</th>\n",
       "      <td>용산구</td>\n",
       "      <td>3021</td>\n",
       "      <td>3609</td>\n",
       "      <td>159554.119372</td>\n",
       "      <td>83.948502</td>\n",
       "      <td>1998.813546</td>\n",
       "      <td>7</td>\n",
       "      <td>0.836842</td>\n",
       "    </tr>\n",
       "    <tr>\n",
       "      <th>3</th>\n",
       "      <td>성동구</td>\n",
       "      <td>2023</td>\n",
       "      <td>4638</td>\n",
       "      <td>122804.979214</td>\n",
       "      <td>75.698076</td>\n",
       "      <td>1994.117491</td>\n",
       "      <td>9</td>\n",
       "      <td>0.436085</td>\n",
       "    </tr>\n",
       "    <tr>\n",
       "      <th>4</th>\n",
       "      <td>광진구</td>\n",
       "      <td>3424</td>\n",
       "      <td>4636</td>\n",
       "      <td>74112.636846</td>\n",
       "      <td>69.432226</td>\n",
       "      <td>1980.390351</td>\n",
       "      <td>10</td>\n",
       "      <td>0.738408</td>\n",
       "    </tr>\n",
       "    <tr>\n",
       "      <th>5</th>\n",
       "      <td>동대문구</td>\n",
       "      <td>2957</td>\n",
       "      <td>3846</td>\n",
       "      <td>62288.451220</td>\n",
       "      <td>64.781042</td>\n",
       "      <td>1940.102780</td>\n",
       "      <td>11</td>\n",
       "      <td>0.768651</td>\n",
       "    </tr>\n",
       "    <tr>\n",
       "      <th>6</th>\n",
       "      <td>중랑구</td>\n",
       "      <td>3324</td>\n",
       "      <td>5392</td>\n",
       "      <td>45769.851034</td>\n",
       "      <td>60.654311</td>\n",
       "      <td>1999.330731</td>\n",
       "      <td>8</td>\n",
       "      <td>0.616355</td>\n",
       "    </tr>\n",
       "    <tr>\n",
       "      <th>7</th>\n",
       "      <td>성북구</td>\n",
       "      <td>2411</td>\n",
       "      <td>4906</td>\n",
       "      <td>64624.189311</td>\n",
       "      <td>72.747125</td>\n",
       "      <td>1995.559771</td>\n",
       "      <td>10</td>\n",
       "      <td>0.491339</td>\n",
       "    </tr>\n",
       "    <tr>\n",
       "      <th>8</th>\n",
       "      <td>강북구</td>\n",
       "      <td>2497</td>\n",
       "      <td>3584</td>\n",
       "      <td>36790.413714</td>\n",
       "      <td>59.379247</td>\n",
       "      <td>1989.167861</td>\n",
       "      <td>9</td>\n",
       "      <td>0.696513</td>\n",
       "    </tr>\n",
       "    <tr>\n",
       "      <th>9</th>\n",
       "      <td>도봉구</td>\n",
       "      <td>1921</td>\n",
       "      <td>2808</td>\n",
       "      <td>38065.337139</td>\n",
       "      <td>62.258850</td>\n",
       "      <td>1999.531868</td>\n",
       "      <td>8</td>\n",
       "      <td>0.683873</td>\n",
       "    </tr>\n",
       "    <tr>\n",
       "      <th>10</th>\n",
       "      <td>노원구</td>\n",
       "      <td>3567</td>\n",
       "      <td>4105</td>\n",
       "      <td>55159.558606</td>\n",
       "      <td>62.006903</td>\n",
       "      <td>1994.416388</td>\n",
       "      <td>8</td>\n",
       "      <td>0.868729</td>\n",
       "    </tr>\n",
       "    <tr>\n",
       "      <th>11</th>\n",
       "      <td>은평구</td>\n",
       "      <td>3493</td>\n",
       "      <td>5683</td>\n",
       "      <td>46061.352019</td>\n",
       "      <td>57.516012</td>\n",
       "      <td>1989.769396</td>\n",
       "      <td>9</td>\n",
       "      <td>0.614532</td>\n",
       "    </tr>\n",
       "    <tr>\n",
       "      <th>12</th>\n",
       "      <td>서대문구</td>\n",
       "      <td>2385</td>\n",
       "      <td>4218</td>\n",
       "      <td>64582.288360</td>\n",
       "      <td>64.549984</td>\n",
       "      <td>2003.551511</td>\n",
       "      <td>8</td>\n",
       "      <td>0.565300</td>\n",
       "    </tr>\n",
       "    <tr>\n",
       "      <th>13</th>\n",
       "      <td>마포구</td>\n",
       "      <td>3834</td>\n",
       "      <td>3809</td>\n",
       "      <td>79567.040657</td>\n",
       "      <td>60.168861</td>\n",
       "      <td>1983.818214</td>\n",
       "      <td>8</td>\n",
       "      <td>1.006299</td>\n",
       "    </tr>\n",
       "    <tr>\n",
       "      <th>14</th>\n",
       "      <td>양천구</td>\n",
       "      <td>3019</td>\n",
       "      <td>4854</td>\n",
       "      <td>72124.809811</td>\n",
       "      <td>64.810635</td>\n",
       "      <td>2002.822886</td>\n",
       "      <td>9</td>\n",
       "      <td>0.621833</td>\n",
       "    </tr>\n",
       "    <tr>\n",
       "      <th>15</th>\n",
       "      <td>강서구</td>\n",
       "      <td>4296</td>\n",
       "      <td>3874</td>\n",
       "      <td>41237.221077</td>\n",
       "      <td>50.553006</td>\n",
       "      <td>2007.690953</td>\n",
       "      <td>10</td>\n",
       "      <td>1.108645</td>\n",
       "    </tr>\n",
       "    <tr>\n",
       "      <th>16</th>\n",
       "      <td>구로구</td>\n",
       "      <td>3737</td>\n",
       "      <td>5694</td>\n",
       "      <td>43640.239348</td>\n",
       "      <td>57.414521</td>\n",
       "      <td>2003.107029</td>\n",
       "      <td>8</td>\n",
       "      <td>0.656190</td>\n",
       "    </tr>\n",
       "    <tr>\n",
       "      <th>17</th>\n",
       "      <td>금천구</td>\n",
       "      <td>2240</td>\n",
       "      <td>3458</td>\n",
       "      <td>37890.772739</td>\n",
       "      <td>52.108477</td>\n",
       "      <td>2012.116243</td>\n",
       "      <td>5</td>\n",
       "      <td>0.647586</td>\n",
       "    </tr>\n",
       "    <tr>\n",
       "      <th>18</th>\n",
       "      <td>영등포구</td>\n",
       "      <td>4418</td>\n",
       "      <td>5133</td>\n",
       "      <td>76448.345747</td>\n",
       "      <td>61.606554</td>\n",
       "      <td>1999.023536</td>\n",
       "      <td>10</td>\n",
       "      <td>0.860538</td>\n",
       "    </tr>\n",
       "    <tr>\n",
       "      <th>19</th>\n",
       "      <td>동작구</td>\n",
       "      <td>2642</td>\n",
       "      <td>3664</td>\n",
       "      <td>78693.155893</td>\n",
       "      <td>67.894456</td>\n",
       "      <td>1985.158818</td>\n",
       "      <td>7</td>\n",
       "      <td>0.720873</td>\n",
       "    </tr>\n",
       "    <tr>\n",
       "      <th>20</th>\n",
       "      <td>관악구</td>\n",
       "      <td>4769</td>\n",
       "      <td>6614</td>\n",
       "      <td>48789.376776</td>\n",
       "      <td>66.181239</td>\n",
       "      <td>1998.160375</td>\n",
       "      <td>9</td>\n",
       "      <td>0.720937</td>\n",
       "    </tr>\n",
       "    <tr>\n",
       "      <th>21</th>\n",
       "      <td>서초구</td>\n",
       "      <td>4522</td>\n",
       "      <td>6036</td>\n",
       "      <td>159972.466543</td>\n",
       "      <td>75.060398</td>\n",
       "      <td>1991.423148</td>\n",
       "      <td>11</td>\n",
       "      <td>0.749048</td>\n",
       "    </tr>\n",
       "    <tr>\n",
       "      <th>22</th>\n",
       "      <td>강남구</td>\n",
       "      <td>6763</td>\n",
       "      <td>8352</td>\n",
       "      <td>175249.427417</td>\n",
       "      <td>79.076040</td>\n",
       "      <td>1969.486368</td>\n",
       "      <td>14</td>\n",
       "      <td>0.809649</td>\n",
       "    </tr>\n",
       "    <tr>\n",
       "      <th>23</th>\n",
       "      <td>송파구</td>\n",
       "      <td>5223</td>\n",
       "      <td>4665</td>\n",
       "      <td>105114.596838</td>\n",
       "      <td>67.085016</td>\n",
       "      <td>2003.032982</td>\n",
       "      <td>11</td>\n",
       "      <td>1.119374</td>\n",
       "    </tr>\n",
       "    <tr>\n",
       "      <th>24</th>\n",
       "      <td>강동구</td>\n",
       "      <td>3398</td>\n",
       "      <td>4238</td>\n",
       "      <td>74539.098009</td>\n",
       "      <td>62.631046</td>\n",
       "      <td>1950.334511</td>\n",
       "      <td>9</td>\n",
       "      <td>0.801604</td>\n",
       "    </tr>\n",
       "  </tbody>\n",
       "</table>\n",
       "</div>"
      ],
      "text/plain": [
       "     자치구  범죄_합계  CCTV_총계         평균거래금액     평균건물면적       평균건축년도  치안시설_합계  \\\n",
       "0    종로구   2981     2339   70475.616528  69.724773  2001.131785       20   \n",
       "1     중구   3348     3118   75016.632878  63.949920  1979.071470       15   \n",
       "2    용산구   3021     3609  159554.119372  83.948502  1998.813546        7   \n",
       "3    성동구   2023     4638  122804.979214  75.698076  1994.117491        9   \n",
       "4    광진구   3424     4636   74112.636846  69.432226  1980.390351       10   \n",
       "5   동대문구   2957     3846   62288.451220  64.781042  1940.102780       11   \n",
       "6    중랑구   3324     5392   45769.851034  60.654311  1999.330731        8   \n",
       "7    성북구   2411     4906   64624.189311  72.747125  1995.559771       10   \n",
       "8    강북구   2497     3584   36790.413714  59.379247  1989.167861        9   \n",
       "9    도봉구   1921     2808   38065.337139  62.258850  1999.531868        8   \n",
       "10   노원구   3567     4105   55159.558606  62.006903  1994.416388        8   \n",
       "11   은평구   3493     5683   46061.352019  57.516012  1989.769396        9   \n",
       "12  서대문구   2385     4218   64582.288360  64.549984  2003.551511        8   \n",
       "13   마포구   3834     3809   79567.040657  60.168861  1983.818214        8   \n",
       "14   양천구   3019     4854   72124.809811  64.810635  2002.822886        9   \n",
       "15   강서구   4296     3874   41237.221077  50.553006  2007.690953       10   \n",
       "16   구로구   3737     5694   43640.239348  57.414521  2003.107029        8   \n",
       "17   금천구   2240     3458   37890.772739  52.108477  2012.116243        5   \n",
       "18  영등포구   4418     5133   76448.345747  61.606554  1999.023536       10   \n",
       "19   동작구   2642     3664   78693.155893  67.894456  1985.158818        7   \n",
       "20   관악구   4769     6614   48789.376776  66.181239  1998.160375        9   \n",
       "21   서초구   4522     6036  159972.466543  75.060398  1991.423148       11   \n",
       "22   강남구   6763     8352  175249.427417  79.076040  1969.486368       14   \n",
       "23   송파구   5223     4665  105114.596838  67.085016  2003.032982       11   \n",
       "24   강동구   3398     4238   74539.098009  62.631046  1950.334511        9   \n",
       "\n",
       "         위험도  \n",
       "0   1.273932  \n",
       "1   1.073421  \n",
       "2   0.836842  \n",
       "3   0.436085  \n",
       "4   0.738408  \n",
       "5   0.768651  \n",
       "6   0.616355  \n",
       "7   0.491339  \n",
       "8   0.696513  \n",
       "9   0.683873  \n",
       "10  0.868729  \n",
       "11  0.614532  \n",
       "12  0.565300  \n",
       "13  1.006299  \n",
       "14  0.621833  \n",
       "15  1.108645  \n",
       "16  0.656190  \n",
       "17  0.647586  \n",
       "18  0.860538  \n",
       "19  0.720873  \n",
       "20  0.720937  \n",
       "21  0.749048  \n",
       "22  0.809649  \n",
       "23  1.119374  \n",
       "24  0.801604  "
      ]
     },
     "execution_count": 65,
     "metadata": {},
     "output_type": "execute_result"
    }
   ],
   "source": [
    "merged_data"
   ]
  },
  {
   "cell_type": "markdown",
   "metadata": {},
   "source": [
    "### 3️⃣ 데이터 분석 및 시각화"
   ]
  },
  {
   "cell_type": "markdown",
   "metadata": {},
   "source": [
    "- 필요한 라이브러리 설치"
   ]
  },
  {
   "cell_type": "code",
   "execution_count": null,
   "metadata": {},
   "outputs": [],
   "source": [
    "import matplotlib.pyplot as plt\n",
    "import seaborn as sns\n",
    "import matplotlib.font_manager as fm\n",
    "import folium\n",
    "import pandas as pd\n",
    "import plotly.express as px\n",
    "import matplotlib.ticker as mticker"
   ]
  },
  {
   "cell_type": "markdown",
   "metadata": {},
   "source": [
    "✅ **상관관계 분석**  "
   ]
  },
  {
   "cell_type": "code",
   "execution_count": 88,
   "metadata": {},
   "outputs": [
    {
     "data": {
      "image/png": "[encoded data removed]",
      "text/plain": [
       "<Figure size 1200x700 with 1 Axes>"
      ]
     },
     "metadata": {},
     "output_type": "display_data"
    }
   ],
   "source": [
    "# 🔹 한글 폰트 설정 (Windows, Mac, Linux 지원)\n",
    "import platform\n",
    "if platform.system() == \"Windows\":\n",
    "    plt.rc(\"font\", family=\"Malgun Gothic\")  # Windows\n",
    "elif platform.system() == \"Darwin\":\n",
    "    plt.rc(\"font\", family=\"AppleGothic\")  # Mac\n",
    "else:\n",
    "    plt.rc(\"font\", family=\"NanumGothic\")  # Linux\n",
    "\n",
    "# 🔹 그래프 크기 설정\n",
    "plt.figure(figsize=(12, 7))\n",
    "\n",
    "# 🔹 산점도 플롯 (hue로 자치구별 색상 구분)\n",
    "sns.scatterplot(x=\"평균거래금액\", y=\"위험도\", data=merged_data, hue=\"자치구\", s=100, palette=\"viridis\", edgecolor=\"black\")\n",
    "\n",
    "# 🔹 각 데이터 포인트 옆에 자치구 이름 표시 (겹치지 않도록 `ha=\"center\"` 사용)\n",
    "for i in range(len(merged_data)):\n",
    "    plt.text(\n",
    "        merged_data[\"평균거래금액\"][i], merged_data[\"위험도\"][i], merged_data[\"자치구\"][i],\n",
    "        fontsize=9, ha=\"center\", va=\"bottom\", fontweight=\"bold\", color=\"black\", alpha=0.8\n",
    "    )\n",
    "\n",
    "# 🔹 그래프 제목 및 라벨\n",
    "plt.title(\"부동산 가격과 범죄율 관계\", fontsize=16, fontweight=\"bold\", pad=15)\n",
    "plt.xlabel(\"평균 거래 금액 (만원)\", fontsize=13)\n",
    "plt.ylabel(\"위험도 (범죄 / CCTV)\", fontsize=13)\n",
    "\n",
    "# 🔹 X축 라벨을 천 단위 콤마(,) 형식으로 표시하여 가독성 향상\n",
    "plt.gca().xaxis.set_major_formatter(mticker.FuncFormatter(lambda x, _: f\"{int(x):,}\"))\n",
    "\n",
    "# 🔹 X축 라벨 회전 (가독성 향상)\n",
    "plt.xticks(rotation=30)\n",
    "\n",
    "# 🔹 그래프 테두리 스타일 개선\n",
    "plt.grid(True, linestyle=\"--\", linewidth=0.5, alpha=0.7)\n",
    "\n",
    "# 🔹 그래프 표시\n",
    "plt.show()\n"
   ]
  },
  {
   "cell_type": "markdown",
   "metadata": {},
   "source": [
    "✅ **자치구별 위험도 바 차트**"
   ]
  },
  {
   "cell_type": "markdown",
   "metadata": {},
   "source": [
    "##### 위험도(범죄 / CCTV)의 의미  \n",
    "\n",
    "🔹 **공식:**  \n",
    "$$\n",
    "\\text{위험도} = \\frac{\\text{총범죄발생 수}}{\\text{CCTV 개수} + 1}\n",
    "$$\n",
    "\n",
    "- **총범죄발생 수**: 해당 자치구에서 1년 동안 발생한 범죄 총합  \n",
    "- **CCTV 개수**: 해당 자치구의 공공 CCTV 설치 수  \n",
    "- **+1을 추가한 이유**: 일부 지역에서 CCTV 개수가 0일 경우 무한대 오류 방지  \n",
    "\n",
    "📌 **해석**  \n",
    "- **위험도가 높을수록** → CCTV 1대당 감시해야 하는 범죄 수가 많아 **범죄 예방 효과가 낮음**  \n",
    "- **위험도가 낮을수록** → CCTV 1대당 감시하는 범죄가 적어 **더 안전한 지역**으로 볼 수 있음  \n"
   ]
  },
  {
   "cell_type": "code",
   "execution_count": 68,
   "metadata": {},
   "outputs": [
    {
     "name": "stderr",
     "output_type": "stream",
     "text": [
      "C:\\Users\\user\\AppData\\Local\\Temp\\ipykernel_50144\\2470667990.py:2: FutureWarning: \n",
      "\n",
      "Passing `palette` without assigning `hue` is deprecated and will be removed in v0.14.0. Assign the `x` variable to `hue` and set `legend=False` for the same effect.\n",
      "\n",
      "  sns.barplot(x=\"자치구\", y=\"위험도\", data=merged_data.sort_values(by=\"위험도\", ascending=False), palette=\"Reds_r\")\n"
     ]
    },
    {
     "data": {
      "image/png": "[encoded data removed]",
      "text/plain": [
       "<Figure size 1200x600 with 1 Axes>"
      ]
     },
     "metadata": {},
     "output_type": "display_data"
    }
   ],
   "source": [
    "plt.figure(figsize=(12, 6))\n",
    "sns.barplot(x=\"자치구\", y=\"위험도\", data=merged_data.sort_values(by=\"위험도\", ascending=False), palette=\"Reds_r\")\n",
    "plt.xticks(rotation=45)\n",
    "plt.title(\"자치구별 위험도 비교\")\n",
    "plt.xlabel(\"자치구\")\n",
    "plt.ylabel(\"위험도 (범죄 / CCTV)\")\n",
    "plt.show()"
   ]
  },
  {
   "cell_type": "markdown",
   "metadata": {},
   "source": [
    "✅ **cctv 개수와 평균 거래 금액 비교 데이터 필터링**"
   ]
  },
  {
   "cell_type": "markdown",
   "metadata": {},
   "source": [
    "- 주요 요소 : CCTV 개수, 평균 거래 금액, 버블 크기\n",
    "- 사용 기술 : pandas, matpolotlib.pyplot, colorbar, text()\n",
    "- 특징 : CCTV 개수와 평균 거래 금액 간의 관계 시각화"
   ]
  },
  {
   "cell_type": "code",
   "execution_count": 69,
   "metadata": {},
   "outputs": [
    {
     "data": {
      "image/png": "[encoded data removed]",
      "text/plain": [
       "<Figure size 1200x700 with 2 Axes>"
      ]
     },
     "metadata": {},
     "output_type": "display_data"
    }
   ],
   "source": [
    "# 🔹 CCTV 개수와 평균 거래 금액 비교를 위한 데이터 필터링\n",
    "cctv_vs_price = merged_data[[\"자치구\", \"CCTV_총계\", \"평균거래금액\"]].dropna()\n",
    "\n",
    "# 🔹 버블 차트 시각화 (CCTV 개수 vs 평균 거래 금액)\n",
    "plt.figure(figsize=(12, 7))\n",
    "bubble = plt.scatter(\n",
    "    cctv_vs_price[\"CCTV_총계\"],\n",
    "    cctv_vs_price[\"평균거래금액\"],\n",
    "    s=cctv_vs_price[\"평균거래금액\"] / 500,  # 버블 크기 조정 (부동산 가격에 비례)\n",
    "    c=cctv_vs_price[\"평균거래금액\"],\n",
    "    cmap=\"coolwarm\",\n",
    "    alpha=0.7,\n",
    "    edgecolors=\"black\"\n",
    ")\n",
    "\n",
    "# 🔹 각 데이터 포인트 옆에 자치구 이름 표시\n",
    "for i in range(len(cctv_vs_price)):\n",
    "    plt.text(\n",
    "        cctv_vs_price[\"CCTV_총계\"].iloc[i],\n",
    "        cctv_vs_price[\"평균거래금액\"].iloc[i],\n",
    "        cctv_vs_price[\"자치구\"].iloc[i],\n",
    "        fontsize=9,\n",
    "        ha=\"center\",\n",
    "        va=\"bottom\",\n",
    "        fontweight=\"bold\"\n",
    "    )\n",
    "\n",
    "# 🔹 그래프 제목 및 라벨 설정\n",
    "plt.title(\"CCTV 개수와 부동산 가격 관계 (버블 차트)\", fontsize=14, fontweight=\"bold\")\n",
    "plt.xlabel(\"CCTV 총 개수\", fontsize=12)\n",
    "plt.ylabel(\"평균 거래 금액 (만원)\", fontsize=12)\n",
    "\n",
    "# 🔹 컬러 바 추가 (부동산 가격을 색상으로 표시)\n",
    "cbar = plt.colorbar(bubble)\n",
    "cbar.set_label(\"평균 거래 금액 (만원)\")\n",
    "\n",
    "# 🔹 그래프 표시\n",
    "plt.grid(True, linestyle=\"--\", alpha=0.5)\n",
    "plt.show()\n"
   ]
  },
  {
   "cell_type": "markdown",
   "metadata": {},
   "source": [
    "✅ **안전도 바차트**"
   ]
  },
  {
   "cell_type": "markdown",
   "metadata": {},
   "source": [
    "- 주요 요소: CCTV 개수, 경찰서 개수, 범죄 발생 수\n",
    "- 사용 기술: pandas(데이터 처리), plotly.express(시각화)\n",
    "- 특징: 마우스를 올리면 데이터 확인 가능, 막대 위 점수 표시, 색상 변화로 직관적 비교 가능"
   ]
  },
  {
   "cell_type": "code",
   "execution_count": 70,
   "metadata": {},
   "outputs": [
    {
     "data": {
      "application/vnd.plotly.v1+json": {
       "config": {
        "plotlyServerURL": "https://plot.ly"
       },
       "data": [
        {
         "alignmentgroup": "True",
         "hovertemplate": "자치구=%{x}<br>안전도_점수=%{marker.color}<extra></extra>",
         "legendgroup": "",
         "marker": {
          "color": [
           2.2959486166007905,
           2.0381426202321724,
           1.7711651299245599,
           1.6290784201488266,
           1.6240601503759398,
           1.6102649006622516,
           1.5452922802320392,
           1.525414660246121,
           1.4651404786680542,
           1.4383506805444355,
           1.388951948543322,
           1.388469601677149,
           1.3564963503649634,
           1.336944505858943,
           1.303921568627451,
           1.249485142689026,
           1.236842105263158,
           1.1965585704831239,
           1.1638379723919439,
           1.1527466367713004,
           0.9953063885267275,
           0.935503135264258,
           0.903886432394694,
           0.8950995405819295,
           0.7910798122065728
          ],
          "coloraxis": "coloraxis",
          "pattern": {
           "shape": ""
          }
         },
         "name": "",
         "offsetgroup": "",
         "orientation": "v",
         "showlegend": false,
         "text": [
          2.2959486166007905,
          2.0381426202321724,
          1.7711651299245599,
          1.6290784201488266,
          1.6240601503759398,
          1.6102649006622516,
          1.5452922802320392,
          1.525414660246121,
          1.4651404786680542,
          1.4383506805444355,
          1.388951948543322,
          1.388469601677149,
          1.3564963503649634,
          1.336944505858943,
          1.303921568627451,
          1.249485142689026,
          1.236842105263158,
          1.1965585704831239,
          1.1638379723919439,
          1.1527466367713004,
          0.9953063885267275,
          0.935503135264258,
          0.903886432394694,
          0.8950995405819295,
          0.7910798122065728
         ],
         "textposition": "outside",
         "texttemplate": "%{text:.2f}",
         "type": "bar",
         "x": [
          "성동구",
          "성북구",
          "서대문구",
          "은평구",
          "중랑구",
          "양천구",
          "금천구",
          "구로구",
          "도봉구",
          "강북구",
          "동작구",
          "관악구",
          "광진구",
          "서초구",
          "동대문구",
          "강동구",
          "강남구",
          "용산구",
          "영등포구",
          "노원구",
          "마포구",
          "중구",
          "강서구",
          "송파구",
          "종로구"
         ],
         "xaxis": "x",
         "y": [
          2.2959486166007905,
          2.0381426202321724,
          1.7711651299245599,
          1.6290784201488266,
          1.6240601503759398,
          1.6102649006622516,
          1.5452922802320392,
          1.525414660246121,
          1.4651404786680542,
          1.4383506805444355,
          1.388951948543322,
          1.388469601677149,
          1.3564963503649634,
          1.336944505858943,
          1.303921568627451,
          1.249485142689026,
          1.236842105263158,
          1.1965585704831239,
          1.1638379723919439,
          1.1527466367713004,
          0.9953063885267275,
          0.935503135264258,
          0.903886432394694,
          0.8950995405819295,
          0.7910798122065728
         ],
         "yaxis": "y"
        }
       ],
       "layout": {
        "barmode": "relative",
        "coloraxis": {
         "colorbar": {
          "title": {
           "text": "안전도_점수"
          }
         },
         "colorscale": [
          [
           0,
           "rgb(247,251,255)"
          ],
          [
           0.125,
           "rgb(222,235,247)"
          ],
          [
           0.25,
           "rgb(198,219,239)"
          ],
          [
           0.375,
           "rgb(158,202,225)"
          ],
          [
           0.5,
           "rgb(107,174,214)"
          ],
          [
           0.625,
           "rgb(66,146,198)"
          ],
          [
           0.75,
           "rgb(33,113,181)"
          ],
          [
           0.875,
           "rgb(8,81,156)"
          ],
          [
           1,
           "rgb(8,48,107)"
          ]
         ]
        },
        "height": 500,
        "legend": {
         "tracegroupgap": 0
        },
        "template": {
         "data": {
          "bar": [
           {
            "error_x": {
             "color": "#2a3f5f"
            },
            "error_y": {
             "color": "#2a3f5f"
            },
            "marker": {
             "line": {
              "color": "#E5ECF6",
              "width": 0.5
             },
             "pattern": {
              "fillmode": "overlay",
              "size": 10,
              "solidity": 0.2
             }
            },
            "type": "bar"
           }
          ],
          "barpolar": [
           {
            "marker": {
             "line": {
              "color": "#E5ECF6",
              "width": 0.5
             },
             "pattern": {
              "fillmode": "overlay",
              "size": 10,
              "solidity": 0.2
             }
            },
            "type": "barpolar"
           }
          ],
          "carpet": [
           {
            "aaxis": {
             "endlinecolor": "#2a3f5f",
             "gridcolor": "white",
             "linecolor": "white",
             "minorgridcolor": "white",
             "startlinecolor": "#2a3f5f"
            },
            "baxis": {
             "endlinecolor": "#2a3f5f",
             "gridcolor": "white",
             "linecolor": "white",
             "minorgridcolor": "white",
             "startlinecolor": "#2a3f5f"
            },
            "type": "carpet"
           }
          ],
          "choropleth": [
           {
            "colorbar": {
             "outlinewidth": 0,
             "ticks": ""
            },
            "type": "choropleth"
           }
          ],
          "contour": [
           {
            "colorbar": {
             "outlinewidth": 0,
             "ticks": ""
            },
            "colorscale": [
             [
              0,
              "#0d0887"
             ],
             [
              0.1111111111111111,
              "#46039f"
             ],
             [
              0.2222222222222222,
              "#7201a8"
             ],
             [
              0.3333333333333333,
              "#9c179e"
             ],
             [
              0.4444444444444444,
              "#bd3786"
             ],
             [
              0.5555555555555556,
              "#d8576b"
             ],
             [
              0.6666666666666666,
              "#ed7953"
             ],
             [
              0.7777777777777778,
              "#fb9f3a"
             ],
             [
              0.8888888888888888,
              "#fdca26"
             ],
             [
              1,
              "#f0f921"
             ]
            ],
            "type": "contour"
           }
          ],
          "contourcarpet": [
           {
            "colorbar": {
             "outlinewidth": 0,
             "ticks": ""
            },
            "type": "contourcarpet"
           }
          ],
          "heatmap": [
           {
            "colorbar": {
             "outlinewidth": 0,
             "ticks": ""
            },
            "colorscale": [
             [
              0,
              "#0d0887"
             ],
             [
              0.1111111111111111,
              "#46039f"
             ],
             [
              0.2222222222222222,
              "#7201a8"
             ],
             [
              0.3333333333333333,
              "#9c179e"
             ],
             [
              0.4444444444444444,
              "#bd3786"
             ],
             [
              0.5555555555555556,
              "#d8576b"
             ],
             [
              0.6666666666666666,
              "#ed7953"
             ],
             [
              0.7777777777777778,
              "#fb9f3a"
             ],
             [
              0.8888888888888888,
              "#fdca26"
             ],
             [
              1,
              "#f0f921"
             ]
            ],
            "type": "heatmap"
           }
          ],
          "heatmapgl": [
           {
            "colorbar": {
             "outlinewidth": 0,
             "ticks": ""
            },
            "colorscale": [
             [
              0,
              "#0d0887"
             ],
             [
              0.1111111111111111,
              "#46039f"
             ],
             [
              0.2222222222222222,
              "#7201a8"
             ],
             [
              0.3333333333333333,
              "#9c179e"
             ],
             [
              0.4444444444444444,
              "#bd3786"
             ],
             [
              0.5555555555555556,
              "#d8576b"
             ],
             [
              0.6666666666666666,
              "#ed7953"
             ],
             [
              0.7777777777777778,
              "#fb9f3a"
             ],
             [
              0.8888888888888888,
              "#fdca26"
             ],
             [
              1,
              "#f0f921"
             ]
            ],
            "type": "heatmapgl"
           }
          ],
          "histogram": [
           {
            "marker": {
             "pattern": {
              "fillmode": "overlay",
              "size": 10,
              "solidity": 0.2
             }
            },
            "type": "histogram"
           }
          ],
          "histogram2d": [
           {
            "colorbar": {
             "outlinewidth": 0,
             "ticks": ""
            },
            "colorscale": [
             [
              0,
              "#0d0887"
             ],
             [
              0.1111111111111111,
              "#46039f"
             ],
             [
              0.2222222222222222,
              "#7201a8"
             ],
             [
              0.3333333333333333,
              "#9c179e"
             ],
             [
              0.4444444444444444,
              "#bd3786"
             ],
             [
              0.5555555555555556,
              "#d8576b"
             ],
             [
              0.6666666666666666,
              "#ed7953"
             ],
             [
              0.7777777777777778,
              "#fb9f3a"
             ],
             [
              0.8888888888888888,
              "#fdca26"
             ],
             [
              1,
              "#f0f921"
             ]
            ],
            "type": "histogram2d"
           }
          ],
          "histogram2dcontour": [
           {
            "colorbar": {
             "outlinewidth": 0,
             "ticks": ""
            },
            "colorscale": [
             [
              0,
              "#0d0887"
             ],
             [
              0.1111111111111111,
              "#46039f"
             ],
             [
              0.2222222222222222,
              "#7201a8"
             ],
             [
              0.3333333333333333,
              "#9c179e"
             ],
             [
              0.4444444444444444,
              "#bd3786"
             ],
             [
              0.5555555555555556,
              "#d8576b"
             ],
             [
              0.6666666666666666,
              "#ed7953"
             ],
             [
              0.7777777777777778,
              "#fb9f3a"
             ],
             [
              0.8888888888888888,
              "#fdca26"
             ],
             [
              1,
              "#f0f921"
             ]
            ],
            "type": "histogram2dcontour"
           }
          ],
          "mesh3d": [
           {
            "colorbar": {
             "outlinewidth": 0,
             "ticks": ""
            },
            "type": "mesh3d"
           }
          ],
          "parcoords": [
           {
            "line": {
             "colorbar": {
              "outlinewidth": 0,
              "ticks": ""
             }
            },
            "type": "parcoords"
           }
          ],
          "pie": [
           {
            "automargin": true,
            "type": "pie"
           }
          ],
          "scatter": [
           {
            "fillpattern": {
             "fillmode": "overlay",
             "size": 10,
             "solidity": 0.2
            },
            "type": "scatter"
           }
          ],
          "scatter3d": [
           {
            "line": {
             "colorbar": {
              "outlinewidth": 0,
              "ticks": ""
             }
            },
            "marker": {
             "colorbar": {
              "outlinewidth": 0,
              "ticks": ""
             }
            },
            "type": "scatter3d"
           }
          ],
          "scattercarpet": [
           {
            "marker": {
             "colorbar": {
              "outlinewidth": 0,
              "ticks": ""
             }
            },
            "type": "scattercarpet"
           }
          ],
          "scattergeo": [
           {
            "marker": {
             "colorbar": {
              "outlinewidth": 0,
              "ticks": ""
             }
            },
            "type": "scattergeo"
           }
          ],
          "scattergl": [
           {
            "marker": {
             "colorbar": {
              "outlinewidth": 0,
              "ticks": ""
             }
            },
            "type": "scattergl"
           }
          ],
          "scattermapbox": [
           {
            "marker": {
             "colorbar": {
              "outlinewidth": 0,
              "ticks": ""
             }
            },
            "type": "scattermapbox"
           }
          ],
          "scatterpolar": [
           {
            "marker": {
             "colorbar": {
              "outlinewidth": 0,
              "ticks": ""
             }
            },
            "type": "scatterpolar"
           }
          ],
          "scatterpolargl": [
           {
            "marker": {
             "colorbar": {
              "outlinewidth": 0,
              "ticks": ""
             }
            },
            "type": "scatterpolargl"
           }
          ],
          "scatterternary": [
           {
            "marker": {
             "colorbar": {
              "outlinewidth": 0,
              "ticks": ""
             }
            },
            "type": "scatterternary"
           }
          ],
          "surface": [
           {
            "colorbar": {
             "outlinewidth": 0,
             "ticks": ""
            },
            "colorscale": [
             [
              0,
              "#0d0887"
             ],
             [
              0.1111111111111111,
              "#46039f"
             ],
             [
              0.2222222222222222,
              "#7201a8"
             ],
             [
              0.3333333333333333,
              "#9c179e"
             ],
             [
              0.4444444444444444,
              "#bd3786"
             ],
             [
              0.5555555555555556,
              "#d8576b"
             ],
             [
              0.6666666666666666,
              "#ed7953"
             ],
             [
              0.7777777777777778,
              "#fb9f3a"
             ],
             [
              0.8888888888888888,
              "#fdca26"
             ],
             [
              1,
              "#f0f921"
             ]
            ],
            "type": "surface"
           }
          ],
          "table": [
           {
            "cells": {
             "fill": {
              "color": "#EBF0F8"
             },
             "line": {
              "color": "white"
             }
            },
            "header": {
             "fill": {
              "color": "#C8D4E3"
             },
             "line": {
              "color": "white"
             }
            },
            "type": "table"
           }
          ]
         },
         "layout": {
          "annotationdefaults": {
           "arrowcolor": "#2a3f5f",
           "arrowhead": 0,
           "arrowwidth": 1
          },
          "autotypenumbers": "strict",
          "coloraxis": {
           "colorbar": {
            "outlinewidth": 0,
            "ticks": ""
           }
          },
          "colorscale": {
           "diverging": [
            [
             0,
             "#8e0152"
            ],
            [
             0.1,
             "#c51b7d"
            ],
            [
             0.2,
             "#de77ae"
            ],
            [
             0.3,
             "#f1b6da"
            ],
            [
             0.4,
             "#fde0ef"
            ],
            [
             0.5,
             "#f7f7f7"
            ],
            [
             0.6,
             "#e6f5d0"
            ],
            [
             0.7,
             "#b8e186"
            ],
            [
             0.8,
             "#7fbc41"
            ],
            [
             0.9,
             "#4d9221"
            ],
            [
             1,
             "#276419"
            ]
           ],
           "sequential": [
            [
             0,
             "#0d0887"
            ],
            [
             0.1111111111111111,
             "#46039f"
            ],
            [
             0.2222222222222222,
             "#7201a8"
            ],
            [
             0.3333333333333333,
             "#9c179e"
            ],
            [
             0.4444444444444444,
             "#bd3786"
            ],
            [
             0.5555555555555556,
             "#d8576b"
            ],
            [
             0.6666666666666666,
             "#ed7953"
            ],
            [
             0.7777777777777778,
             "#fb9f3a"
            ],
            [
             0.8888888888888888,
             "#fdca26"
            ],
            [
             1,
             "#f0f921"
            ]
           ],
           "sequentialminus": [
            [
             0,
             "#0d0887"
            ],
            [
             0.1111111111111111,
             "#46039f"
            ],
            [
             0.2222222222222222,
             "#7201a8"
            ],
            [
             0.3333333333333333,
             "#9c179e"
            ],
            [
             0.4444444444444444,
             "#bd3786"
            ],
            [
             0.5555555555555556,
             "#d8576b"
            ],
            [
             0.6666666666666666,
             "#ed7953"
            ],
            [
             0.7777777777777778,
             "#fb9f3a"
            ],
            [
             0.8888888888888888,
             "#fdca26"
            ],
            [
             1,
             "#f0f921"
            ]
           ]
          },
          "colorway": [
           "#636efa",
           "#EF553B",
           "#00cc96",
           "#ab63fa",
           "#FFA15A",
           "#19d3f3",
           "#FF6692",
           "#B6E880",
           "#FF97FF",
           "#FECB52"
          ],
          "font": {
           "color": "#2a3f5f"
          },
          "geo": {
           "bgcolor": "white",
           "lakecolor": "white",
           "landcolor": "#E5ECF6",
           "showlakes": true,
           "showland": true,
           "subunitcolor": "white"
          },
          "hoverlabel": {
           "align": "left"
          },
          "hovermode": "closest",
          "mapbox": {
           "style": "light"
          },
          "paper_bgcolor": "white",
          "plot_bgcolor": "#E5ECF6",
          "polar": {
           "angularaxis": {
            "gridcolor": "white",
            "linecolor": "white",
            "ticks": ""
           },
           "bgcolor": "#E5ECF6",
           "radialaxis": {
            "gridcolor": "white",
            "linecolor": "white",
            "ticks": ""
           }
          },
          "scene": {
           "xaxis": {
            "backgroundcolor": "#E5ECF6",
            "gridcolor": "white",
            "gridwidth": 2,
            "linecolor": "white",
            "showbackground": true,
            "ticks": "",
            "zerolinecolor": "white"
           },
           "yaxis": {
            "backgroundcolor": "#E5ECF6",
            "gridcolor": "white",
            "gridwidth": 2,
            "linecolor": "white",
            "showbackground": true,
            "ticks": "",
            "zerolinecolor": "white"
           },
           "zaxis": {
            "backgroundcolor": "#E5ECF6",
            "gridcolor": "white",
            "gridwidth": 2,
            "linecolor": "white",
            "showbackground": true,
            "ticks": "",
            "zerolinecolor": "white"
           }
          },
          "shapedefaults": {
           "line": {
            "color": "#2a3f5f"
           }
          },
          "ternary": {
           "aaxis": {
            "gridcolor": "white",
            "linecolor": "white",
            "ticks": ""
           },
           "baxis": {
            "gridcolor": "white",
            "linecolor": "white",
            "ticks": ""
           },
           "bgcolor": "#E5ECF6",
           "caxis": {
            "gridcolor": "white",
            "linecolor": "white",
            "ticks": ""
           }
          },
          "title": {
           "x": 0.05
          },
          "xaxis": {
           "automargin": true,
           "gridcolor": "white",
           "linecolor": "white",
           "ticks": "",
           "title": {
            "standoff": 15
           },
           "zerolinecolor": "white",
           "zerolinewidth": 2
          },
          "yaxis": {
           "automargin": true,
           "gridcolor": "white",
           "linecolor": "white",
           "ticks": "",
           "title": {
            "standoff": 15
           },
           "zerolinecolor": "white",
           "zerolinewidth": 2
          }
         }
        },
        "title": {
         "text": "📊 서울시 자치구별 안전도 점수 비교"
        },
        "width": 800,
        "xaxis": {
         "anchor": "y",
         "domain": [
          0,
          1
         ],
         "tickangle": -45,
         "title": {
          "text": "자치구"
         }
        },
        "yaxis": {
         "anchor": "x",
         "domain": [
          0,
          1
         ],
         "title": {
          "text": "안전도 점수"
         }
        }
       }
      }
     },
     "metadata": {},
     "output_type": "display_data"
    }
   ],
   "source": [
    "# 🔹 안전도 점수 계산 (CCTV 개수 & 경찰서 개수 반영)\n",
    "merged_data[\"안전도_점수\"] = (merged_data[\"CCTV_총계\"] + merged_data[\"치안시설_합계\"]) / (merged_data[\"범죄_합계\"] + 1)\n",
    "merged_data[\"안전도_라벨\"] = (merged_data[\"안전도_점수\"] > merged_data[\"안전도_점수\"].median()).astype(int)\n",
    "\n",
    "# 🔹 안전도 점수를 내림차순 정렬\n",
    "merged_data_sorted = merged_data.sort_values(by=\"안전도_점수\", ascending=False)\n",
    "\n",
    "# 🔹 Plotly 막대 그래프 생성\n",
    "fig = px.bar(\n",
    "    merged_data_sorted,\n",
    "    x=\"자치구\",\n",
    "    y=\"안전도_점수\",\n",
    "    text=\"안전도_점수\",\n",
    "    title=\"📊 서울시 자치구별 안전도 점수 비교\",\n",
    "    color=\"안전도_점수\",\n",
    "    color_continuous_scale=\"Blues\"\n",
    ")\n",
    "\n",
    "# 🔹 그래프 레이아웃 조정\n",
    "fig.update_traces(texttemplate=\"%{text:.2f}\", textposition=\"outside\")\n",
    "fig.update_layout(\n",
    "    xaxis_title=\"자치구\",\n",
    "    yaxis_title=\"안전도 점수\",\n",
    "    xaxis=dict(tickangle=-45),  # X축 라벨 회전\n",
    "    width=800,\n",
    "    height=500\n",
    ")\n",
    "\n",
    "# 🔹 그래프 출력\n",
    "fig.show()\n"
   ]
  },
  {
   "cell_type": "markdown",
   "metadata": {},
   "source": [
    "✅ **3D 분석**"
   ]
  },
  {
   "cell_type": "code",
   "execution_count": 71,
   "metadata": {},
   "outputs": [
    {
     "data": {
      "application/vnd.plotly.v1+json": {
       "config": {
        "plotlyServerURL": "https://plot.ly"
       },
       "data": [
        {
         "hovertemplate": "<b>%{hovertext}</b><br><br>범죄율=%{x}<br>부동산 가격=%{marker.color}<br>안전도 점수=%{marker.size}<extra></extra>",
         "hovertext": [
          "종로구",
          "중구",
          "용산구",
          "성동구",
          "광진구",
          "동대문구",
          "중랑구",
          "성북구",
          "강북구",
          "도봉구",
          "노원구",
          "은평구",
          "서대문구",
          "마포구",
          "양천구",
          "강서구",
          "구로구",
          "금천구",
          "영등포구",
          "동작구",
          "관악구",
          "서초구",
          "강남구",
          "송파구",
          "강동구"
         ],
         "legendgroup": "",
         "marker": {
          "color": [
           70475.61652763296,
           75016.6328783038,
           159554.11937192583,
           122804.97921355753,
           74112.63684550744,
           62288.45121951219,
           45769.85103366805,
           64624.18931149661,
           36790.41371382202,
           38065.3371389271,
           55159.55860557353,
           46061.35201896604,
           64582.288360128616,
           79567.0406567631,
           72124.8098109351,
           41237.221077181755,
           43640.239348253584,
           37890.772738821135,
           76448.34574669188,
           78693.15589311454,
           48789.376776467994,
           159972.46654294257,
           175249.4274167475,
           105114.59683847868,
           74539.09800868639
          ],
          "coloraxis": "coloraxis",
          "size": [
           0.7910798122065728,
           0.935503135264258,
           1.1965585704831239,
           2.2959486166007905,
           1.3564963503649634,
           1.303921568627451,
           1.6240601503759398,
           2.0381426202321724,
           1.4383506805444355,
           1.4651404786680542,
           1.1527466367713004,
           1.6290784201488266,
           1.7711651299245599,
           0.9953063885267275,
           1.6102649006622516,
           0.903886432394694,
           1.525414660246121,
           1.5452922802320392,
           1.1638379723919439,
           1.388951948543322,
           1.388469601677149,
           1.336944505858943,
           1.236842105263158,
           0.8950995405819295,
           1.249485142689026
          ],
          "sizemode": "area",
          "sizeref": 0.005739871541501977,
          "symbol": "circle"
         },
         "mode": "markers",
         "name": "",
         "scene": "scene",
         "showlegend": false,
         "type": "scatter3d",
         "x": [
          2981,
          3348,
          3021,
          2023,
          3424,
          2957,
          3324,
          2411,
          2497,
          1921,
          3567,
          3493,
          2385,
          3834,
          3019,
          4296,
          3737,
          2240,
          4418,
          2642,
          4769,
          4522,
          6763,
          5223,
          3398
         ],
         "y": [
          70475.61652763296,
          75016.6328783038,
          159554.11937192583,
          122804.97921355753,
          74112.63684550744,
          62288.45121951219,
          45769.85103366805,
          64624.18931149661,
          36790.41371382202,
          38065.3371389271,
          55159.55860557353,
          46061.35201896604,
          64582.288360128616,
          79567.0406567631,
          72124.8098109351,
          41237.221077181755,
          43640.239348253584,
          37890.772738821135,
          76448.34574669188,
          78693.15589311454,
          48789.376776467994,
          159972.46654294257,
          175249.4274167475,
          105114.59683847868,
          74539.09800868639
         ],
         "z": [
          0.7910798122065728,
          0.935503135264258,
          1.1965585704831239,
          2.2959486166007905,
          1.3564963503649634,
          1.303921568627451,
          1.6240601503759398,
          2.0381426202321724,
          1.4383506805444355,
          1.4651404786680542,
          1.1527466367713004,
          1.6290784201488266,
          1.7711651299245599,
          0.9953063885267275,
          1.6102649006622516,
          0.903886432394694,
          1.525414660246121,
          1.5452922802320392,
          1.1638379723919439,
          1.388951948543322,
          1.388469601677149,
          1.336944505858943,
          1.236842105263158,
          0.8950995405819295,
          1.249485142689026
         ]
        }
       ],
       "layout": {
        "coloraxis": {
         "colorbar": {
          "title": {
           "text": "부동산 가격"
          }
         },
         "colorscale": [
          [
           0,
           "#0d0887"
          ],
          [
           0.1111111111111111,
           "#46039f"
          ],
          [
           0.2222222222222222,
           "#7201a8"
          ],
          [
           0.3333333333333333,
           "#9c179e"
          ],
          [
           0.4444444444444444,
           "#bd3786"
          ],
          [
           0.5555555555555556,
           "#d8576b"
          ],
          [
           0.6666666666666666,
           "#ed7953"
          ],
          [
           0.7777777777777778,
           "#fb9f3a"
          ],
          [
           0.8888888888888888,
           "#fdca26"
          ],
          [
           1,
           "#f0f921"
          ]
         ]
        },
        "legend": {
         "itemsizing": "constant",
         "tracegroupgap": 0
        },
        "scene": {
         "domain": {
          "x": [
           0,
           1
          ],
          "y": [
           0,
           1
          ]
         },
         "xaxis": {
          "title": {
           "text": "범죄율"
          }
         },
         "yaxis": {
          "title": {
           "text": "부동산 가격"
          }
         },
         "zaxis": {
          "title": {
           "text": "안전도 점수"
          }
         }
        },
        "template": {
         "data": {
          "bar": [
           {
            "error_x": {
             "color": "#2a3f5f"
            },
            "error_y": {
             "color": "#2a3f5f"
            },
            "marker": {
             "line": {
              "color": "#E5ECF6",
              "width": 0.5
             },
             "pattern": {
              "fillmode": "overlay",
              "size": 10,
              "solidity": 0.2
             }
            },
            "type": "bar"
           }
          ],
          "barpolar": [
           {
            "marker": {
             "line": {
              "color": "#E5ECF6",
              "width": 0.5
             },
             "pattern": {
              "fillmode": "overlay",
              "size": 10,
              "solidity": 0.2
             }
            },
            "type": "barpolar"
           }
          ],
          "carpet": [
           {
            "aaxis": {
             "endlinecolor": "#2a3f5f",
             "gridcolor": "white",
             "linecolor": "white",
             "minorgridcolor": "white",
             "startlinecolor": "#2a3f5f"
            },
            "baxis": {
             "endlinecolor": "#2a3f5f",
             "gridcolor": "white",
             "linecolor": "white",
             "minorgridcolor": "white",
             "startlinecolor": "#2a3f5f"
            },
            "type": "carpet"
           }
          ],
          "choropleth": [
           {
            "colorbar": {
             "outlinewidth": 0,
             "ticks": ""
            },
            "type": "choropleth"
           }
          ],
          "contour": [
           {
            "colorbar": {
             "outlinewidth": 0,
             "ticks": ""
            },
            "colorscale": [
             [
              0,
              "#0d0887"
             ],
             [
              0.1111111111111111,
              "#46039f"
             ],
             [
              0.2222222222222222,
              "#7201a8"
             ],
             [
              0.3333333333333333,
              "#9c179e"
             ],
             [
              0.4444444444444444,
              "#bd3786"
             ],
             [
              0.5555555555555556,
              "#d8576b"
             ],
             [
              0.6666666666666666,
              "#ed7953"
             ],
             [
              0.7777777777777778,
              "#fb9f3a"
             ],
             [
              0.8888888888888888,
              "#fdca26"
             ],
             [
              1,
              "#f0f921"
             ]
            ],
            "type": "contour"
           }
          ],
          "contourcarpet": [
           {
            "colorbar": {
             "outlinewidth": 0,
             "ticks": ""
            },
            "type": "contourcarpet"
           }
          ],
          "heatmap": [
           {
            "colorbar": {
             "outlinewidth": 0,
             "ticks": ""
            },
            "colorscale": [
             [
              0,
              "#0d0887"
             ],
             [
              0.1111111111111111,
              "#46039f"
             ],
             [
              0.2222222222222222,
              "#7201a8"
             ],
             [
              0.3333333333333333,
              "#9c179e"
             ],
             [
              0.4444444444444444,
              "#bd3786"
             ],
             [
              0.5555555555555556,
              "#d8576b"
             ],
             [
              0.6666666666666666,
              "#ed7953"
             ],
             [
              0.7777777777777778,
              "#fb9f3a"
             ],
             [
              0.8888888888888888,
              "#fdca26"
             ],
             [
              1,
              "#f0f921"
             ]
            ],
            "type": "heatmap"
           }
          ],
          "heatmapgl": [
           {
            "colorbar": {
             "outlinewidth": 0,
             "ticks": ""
            },
            "colorscale": [
             [
              0,
              "#0d0887"
             ],
             [
              0.1111111111111111,
              "#46039f"
             ],
             [
              0.2222222222222222,
              "#7201a8"
             ],
             [
              0.3333333333333333,
              "#9c179e"
             ],
             [
              0.4444444444444444,
              "#bd3786"
             ],
             [
              0.5555555555555556,
              "#d8576b"
             ],
             [
              0.6666666666666666,
              "#ed7953"
             ],
             [
              0.7777777777777778,
              "#fb9f3a"
             ],
             [
              0.8888888888888888,
              "#fdca26"
             ],
             [
              1,
              "#f0f921"
             ]
            ],
            "type": "heatmapgl"
           }
          ],
          "histogram": [
           {
            "marker": {
             "pattern": {
              "fillmode": "overlay",
              "size": 10,
              "solidity": 0.2
             }
            },
            "type": "histogram"
           }
          ],
          "histogram2d": [
           {
            "colorbar": {
             "outlinewidth": 0,
             "ticks": ""
            },
            "colorscale": [
             [
              0,
              "#0d0887"
             ],
             [
              0.1111111111111111,
              "#46039f"
             ],
             [
              0.2222222222222222,
              "#7201a8"
             ],
             [
              0.3333333333333333,
              "#9c179e"
             ],
             [
              0.4444444444444444,
              "#bd3786"
             ],
             [
              0.5555555555555556,
              "#d8576b"
             ],
             [
              0.6666666666666666,
              "#ed7953"
             ],
             [
              0.7777777777777778,
              "#fb9f3a"
             ],
             [
              0.8888888888888888,
              "#fdca26"
             ],
             [
              1,
              "#f0f921"
             ]
            ],
            "type": "histogram2d"
           }
          ],
          "histogram2dcontour": [
           {
            "colorbar": {
             "outlinewidth": 0,
             "ticks": ""
            },
            "colorscale": [
             [
              0,
              "#0d0887"
             ],
             [
              0.1111111111111111,
              "#46039f"
             ],
             [
              0.2222222222222222,
              "#7201a8"
             ],
             [
              0.3333333333333333,
              "#9c179e"
             ],
             [
              0.4444444444444444,
              "#bd3786"
             ],
             [
              0.5555555555555556,
              "#d8576b"
             ],
             [
              0.6666666666666666,
              "#ed7953"
             ],
             [
              0.7777777777777778,
              "#fb9f3a"
             ],
             [
              0.8888888888888888,
              "#fdca26"
             ],
             [
              1,
              "#f0f921"
             ]
            ],
            "type": "histogram2dcontour"
           }
          ],
          "mesh3d": [
           {
            "colorbar": {
             "outlinewidth": 0,
             "ticks": ""
            },
            "type": "mesh3d"
           }
          ],
          "parcoords": [
           {
            "line": {
             "colorbar": {
              "outlinewidth": 0,
              "ticks": ""
             }
            },
            "type": "parcoords"
           }
          ],
          "pie": [
           {
            "automargin": true,
            "type": "pie"
           }
          ],
          "scatter": [
           {
            "fillpattern": {
             "fillmode": "overlay",
             "size": 10,
             "solidity": 0.2
            },
            "type": "scatter"
           }
          ],
          "scatter3d": [
           {
            "line": {
             "colorbar": {
              "outlinewidth": 0,
              "ticks": ""
             }
            },
            "marker": {
             "colorbar": {
              "outlinewidth": 0,
              "ticks": ""
             }
            },
            "type": "scatter3d"
           }
          ],
          "scattercarpet": [
           {
            "marker": {
             "colorbar": {
              "outlinewidth": 0,
              "ticks": ""
             }
            },
            "type": "scattercarpet"
           }
          ],
          "scattergeo": [
           {
            "marker": {
             "colorbar": {
              "outlinewidth": 0,
              "ticks": ""
             }
            },
            "type": "scattergeo"
           }
          ],
          "scattergl": [
           {
            "marker": {
             "colorbar": {
              "outlinewidth": 0,
              "ticks": ""
             }
            },
            "type": "scattergl"
           }
          ],
          "scattermapbox": [
           {
            "marker": {
             "colorbar": {
              "outlinewidth": 0,
              "ticks": ""
             }
            },
            "type": "scattermapbox"
           }
          ],
          "scatterpolar": [
           {
            "marker": {
             "colorbar": {
              "outlinewidth": 0,
              "ticks": ""
             }
            },
            "type": "scatterpolar"
           }
          ],
          "scatterpolargl": [
           {
            "marker": {
             "colorbar": {
              "outlinewidth": 0,
              "ticks": ""
             }
            },
            "type": "scatterpolargl"
           }
          ],
          "scatterternary": [
           {
            "marker": {
             "colorbar": {
              "outlinewidth": 0,
              "ticks": ""
             }
            },
            "type": "scatterternary"
           }
          ],
          "surface": [
           {
            "colorbar": {
             "outlinewidth": 0,
             "ticks": ""
            },
            "colorscale": [
             [
              0,
              "#0d0887"
             ],
             [
              0.1111111111111111,
              "#46039f"
             ],
             [
              0.2222222222222222,
              "#7201a8"
             ],
             [
              0.3333333333333333,
              "#9c179e"
             ],
             [
              0.4444444444444444,
              "#bd3786"
             ],
             [
              0.5555555555555556,
              "#d8576b"
             ],
             [
              0.6666666666666666,
              "#ed7953"
             ],
             [
              0.7777777777777778,
              "#fb9f3a"
             ],
             [
              0.8888888888888888,
              "#fdca26"
             ],
             [
              1,
              "#f0f921"
             ]
            ],
            "type": "surface"
           }
          ],
          "table": [
           {
            "cells": {
             "fill": {
              "color": "#EBF0F8"
             },
             "line": {
              "color": "white"
             }
            },
            "header": {
             "fill": {
              "color": "#C8D4E3"
             },
             "line": {
              "color": "white"
             }
            },
            "type": "table"
           }
          ]
         },
         "layout": {
          "annotationdefaults": {
           "arrowcolor": "#2a3f5f",
           "arrowhead": 0,
           "arrowwidth": 1
          },
          "autotypenumbers": "strict",
          "coloraxis": {
           "colorbar": {
            "outlinewidth": 0,
            "ticks": ""
           }
          },
          "colorscale": {
           "diverging": [
            [
             0,
             "#8e0152"
            ],
            [
             0.1,
             "#c51b7d"
            ],
            [
             0.2,
             "#de77ae"
            ],
            [
             0.3,
             "#f1b6da"
            ],
            [
             0.4,
             "#fde0ef"
            ],
            [
             0.5,
             "#f7f7f7"
            ],
            [
             0.6,
             "#e6f5d0"
            ],
            [
             0.7,
             "#b8e186"
            ],
            [
             0.8,
             "#7fbc41"
            ],
            [
             0.9,
             "#4d9221"
            ],
            [
             1,
             "#276419"
            ]
           ],
           "sequential": [
            [
             0,
             "#0d0887"
            ],
            [
             0.1111111111111111,
             "#46039f"
            ],
            [
             0.2222222222222222,
             "#7201a8"
            ],
            [
             0.3333333333333333,
             "#9c179e"
            ],
            [
             0.4444444444444444,
             "#bd3786"
            ],
            [
             0.5555555555555556,
             "#d8576b"
            ],
            [
             0.6666666666666666,
             "#ed7953"
            ],
            [
             0.7777777777777778,
             "#fb9f3a"
            ],
            [
             0.8888888888888888,
             "#fdca26"
            ],
            [
             1,
             "#f0f921"
            ]
           ],
           "sequentialminus": [
            [
             0,
             "#0d0887"
            ],
            [
             0.1111111111111111,
             "#46039f"
            ],
            [
             0.2222222222222222,
             "#7201a8"
            ],
            [
             0.3333333333333333,
             "#9c179e"
            ],
            [
             0.4444444444444444,
             "#bd3786"
            ],
            [
             0.5555555555555556,
             "#d8576b"
            ],
            [
             0.6666666666666666,
             "#ed7953"
            ],
            [
             0.7777777777777778,
             "#fb9f3a"
            ],
            [
             0.8888888888888888,
             "#fdca26"
            ],
            [
             1,
             "#f0f921"
            ]
           ]
          },
          "colorway": [
           "#636efa",
           "#EF553B",
           "#00cc96",
           "#ab63fa",
           "#FFA15A",
           "#19d3f3",
           "#FF6692",
           "#B6E880",
           "#FF97FF",
           "#FECB52"
          ],
          "font": {
           "color": "#2a3f5f"
          },
          "geo": {
           "bgcolor": "white",
           "lakecolor": "white",
           "landcolor": "#E5ECF6",
           "showlakes": true,
           "showland": true,
           "subunitcolor": "white"
          },
          "hoverlabel": {
           "align": "left"
          },
          "hovermode": "closest",
          "mapbox": {
           "style": "light"
          },
          "paper_bgcolor": "white",
          "plot_bgcolor": "#E5ECF6",
          "polar": {
           "angularaxis": {
            "gridcolor": "white",
            "linecolor": "white",
            "ticks": ""
           },
           "bgcolor": "#E5ECF6",
           "radialaxis": {
            "gridcolor": "white",
            "linecolor": "white",
            "ticks": ""
           }
          },
          "scene": {
           "xaxis": {
            "backgroundcolor": "#E5ECF6",
            "gridcolor": "white",
            "gridwidth": 2,
            "linecolor": "white",
            "showbackground": true,
            "ticks": "",
            "zerolinecolor": "white"
           },
           "yaxis": {
            "backgroundcolor": "#E5ECF6",
            "gridcolor": "white",
            "gridwidth": 2,
            "linecolor": "white",
            "showbackground": true,
            "ticks": "",
            "zerolinecolor": "white"
           },
           "zaxis": {
            "backgroundcolor": "#E5ECF6",
            "gridcolor": "white",
            "gridwidth": 2,
            "linecolor": "white",
            "showbackground": true,
            "ticks": "",
            "zerolinecolor": "white"
           }
          },
          "shapedefaults": {
           "line": {
            "color": "#2a3f5f"
           }
          },
          "ternary": {
           "aaxis": {
            "gridcolor": "white",
            "linecolor": "white",
            "ticks": ""
           },
           "baxis": {
            "gridcolor": "white",
            "linecolor": "white",
            "ticks": ""
           },
           "bgcolor": "#E5ECF6",
           "caxis": {
            "gridcolor": "white",
            "linecolor": "white",
            "ticks": ""
           }
          },
          "title": {
           "x": 0.05
          },
          "xaxis": {
           "automargin": true,
           "gridcolor": "white",
           "linecolor": "white",
           "ticks": "",
           "title": {
            "standoff": 15
           },
           "zerolinecolor": "white",
           "zerolinewidth": 2
          },
          "yaxis": {
           "automargin": true,
           "gridcolor": "white",
           "linecolor": "white",
           "ticks": "",
           "title": {
            "standoff": 15
           },
           "zerolinecolor": "white",
           "zerolinewidth": 2
          }
         }
        },
        "title": {
         "text": "📊 안전도, 부동산 가격, 범죄율 3D 분석"
        }
       }
      }
     },
     "metadata": {},
     "output_type": "display_data"
    }
   ],
   "source": [
    "# 🔹 안전도 점수 계산 (CCTV 개수와 경찰서 개수를 고려)\n",
    "merged_data[\"안전도_점수\"] = (merged_data[\"CCTV_총계\"] + merged_data[\"치안시설_합계\"]) / (merged_data[\"범죄_합계\"] + 1)\n",
    "\n",
    "# 🔹 3D 산점도 그래프 생성 (X: 범죄율, Y: 부동산 가격, Z: 안전도)\n",
    "fig = px.scatter_3d(\n",
    "    merged_data,\n",
    "    x=\"범죄_합계\", \n",
    "    y=\"평균거래금액\", \n",
    "    z=\"안전도_점수\",\n",
    "    color=\"평균거래금액\",  # 색상을 부동산 가격으로 설정\n",
    "    size=\"안전도_점수\",  # 점의 크기를 안전도로 설정\n",
    "    hover_name=\"자치구\",\n",
    "    title=\"📊 안전도, 부동산 가격, 범죄율 3D 분석\",\n",
    "    labels={\"범죄_합계\": \"범죄율\", \"평균거래금액\": \"부동산 가격\", \"안전도_점수\": \"안전도 점수\"}\n",
    ")\n",
    "\n",
    "# 🔹 그래프 표시\n",
    "fig.show()\n"
   ]
  },
  {
   "cell_type": "markdown",
   "metadata": {},
   "source": [
    "✅ **안전한 거주지 추천**"
   ]
  },
  {
   "cell_type": "code",
   "execution_count": 72,
   "metadata": {},
   "outputs": [
    {
     "name": "stdout",
     "output_type": "stream",
     "text": [
      "\n",
      "🏡 거주지 추천 (TOP 5)\n"
     ]
    },
    {
     "data": {
      "text/html": [
       "<div>\n",
       "<style scoped>\n",
       "    .dataframe tbody tr th:only-of-type {\n",
       "        vertical-align: middle;\n",
       "    }\n",
       "\n",
       "    .dataframe tbody tr th {\n",
       "        vertical-align: top;\n",
       "    }\n",
       "\n",
       "    .dataframe thead th {\n",
       "        text-align: right;\n",
       "    }\n",
       "</style>\n",
       "<table border=\"1\" class=\"dataframe\">\n",
       "  <thead>\n",
       "    <tr style=\"text-align: right;\">\n",
       "      <th></th>\n",
       "      <th>자치구</th>\n",
       "      <th>추천 점수</th>\n",
       "      <th>안전도 점수</th>\n",
       "      <th>평균거래금액</th>\n",
       "    </tr>\n",
       "  </thead>\n",
       "  <tbody>\n",
       "    <tr>\n",
       "      <th>22</th>\n",
       "      <td>강남구</td>\n",
       "      <td>6.123272</td>\n",
       "      <td>1.236842</td>\n",
       "      <td>175249.427417</td>\n",
       "    </tr>\n",
       "    <tr>\n",
       "      <th>21</th>\n",
       "      <td>서초구</td>\n",
       "      <td>5.735035</td>\n",
       "      <td>1.336945</td>\n",
       "      <td>159972.466543</td>\n",
       "    </tr>\n",
       "    <tr>\n",
       "      <th>2</th>\n",
       "      <td>용산구</td>\n",
       "      <td>5.624215</td>\n",
       "      <td>1.196559</td>\n",
       "      <td>159554.119372</td>\n",
       "    </tr>\n",
       "    <tr>\n",
       "      <th>3</th>\n",
       "      <td>성동구</td>\n",
       "      <td>5.291313</td>\n",
       "      <td>2.295949</td>\n",
       "      <td>122804.979214</td>\n",
       "    </tr>\n",
       "    <tr>\n",
       "      <th>23</th>\n",
       "      <td>송파구</td>\n",
       "      <td>3.780008</td>\n",
       "      <td>0.895100</td>\n",
       "      <td>105114.596838</td>\n",
       "    </tr>\n",
       "  </tbody>\n",
       "</table>\n",
       "</div>"
      ],
      "text/plain": [
       "    자치구     추천 점수    안전도 점수         평균거래금액\n",
       "22  강남구  6.123272  1.236842  175249.427417\n",
       "21  서초구  5.735035  1.336945  159972.466543\n",
       "2   용산구  5.624215  1.196559  159554.119372\n",
       "3   성동구  5.291313  2.295949  122804.979214\n",
       "23  송파구  3.780008  0.895100  105114.596838"
      ]
     },
     "execution_count": 72,
     "metadata": {},
     "output_type": "execute_result"
    }
   ],
   "source": [
    "# 🔹 안전도 점수 = (CCTV + 파출소 개수) / (범죄 발생 수 + 1)  (※ 1 추가: 0으로 나눔 방지)\n",
    "merged_data[\"안전도 점수\"] = (merged_data[\"CCTV_총계\"] + merged_data[\"치안시설_합계\"]) / (merged_data[\"범죄_합계\"] + 1)\n",
    "\n",
    "# 🔹 안전도 순으로 정렬 (높을수록 안전)\n",
    "merged_data = merged_data.sort_values(by=\"안전도 점수\", ascending=False)\n",
    "\n",
    "# 🔹 안전도 점수 + 부동산 가격 고려하여 거주지 추천\n",
    "merged_data[\"추천 점수\"] = merged_data[\"안전도 점수\"] * 0.7 + (merged_data[\"평균거래금액\"] / 10000) * 0.3  # 가중치 조정 가능\n",
    "\n",
    "# 🔹 추천 거주지 TOP 5\n",
    "best_places = merged_data.sort_values(by=\"추천 점수\", ascending=False).head(5)\n",
    "\n",
    "# 📌 추천 결과 출력\n",
    "print(\"\\n🏡 거주지 추천 (TOP 5)\")\n",
    "best_places[['자치구', '추천 점수', '안전도 점수', '평균거래금액']]\n"
   ]
  },
  {
   "cell_type": "code",
   "execution_count": 73,
   "metadata": {},
   "outputs": [
    {
     "name": "stderr",
     "output_type": "stream",
     "text": [
      "C:\\Users\\user\\AppData\\Local\\Temp\\ipykernel_50144\\1628144595.py:9: FutureWarning:\n",
      "\n",
      "\n",
      "\n",
      "Passing `palette` without assigning `hue` is deprecated and will be removed in v0.14.0. Assign the `x` variable to `hue` and set `legend=False` for the same effect.\n",
      "\n",
      "\n"
     ]
    },
    {
     "data": {
      "image/png": "[encoded data removed]",
      "text/plain": [
       "<Figure size 1000x600 with 1 Axes>"
      ]
     },
     "metadata": {},
     "output_type": "display_data"
    }
   ],
   "source": [
    "import matplotlib.pyplot as plt\n",
    "import seaborn as sns\n",
    "\n",
    "# 🔹 한글 폰트 설정\n",
    "plt.rc(\"font\", family=\"Malgun Gothic\")\n",
    "\n",
    "# 🔹 차트 그리기\n",
    "plt.figure(figsize=(10, 6))\n",
    "sns.barplot(x=\"자치구\", y=\"추천 점수\", data=best_places, palette=\"viridis\")\n",
    "\n",
    "plt.title(\"추천 거주지 TOP 5\", fontsize=14, fontweight=\"bold\")\n",
    "plt.xlabel(\"자치구\", fontsize=12)\n",
    "plt.ylabel(\"추천 점수\", fontsize=12)\n",
    "plt.xticks(rotation=30)\n",
    "plt.show()\n"
   ]
  },
  {
   "cell_type": "markdown",
   "metadata": {},
   "source": [
    "✅ **서울시 지도 시각화 (Folium)**"
   ]
  },
  {
   "cell_type": "code",
   "execution_count": 74,
   "metadata": {},
   "outputs": [],
   "source": [
    "# 서울시 각 구의 중심 좌표 (출처: 서울 열린데이터광장)\n",
    "geo_data = {\n",
    "    \"자치구\": [\"종로구\", \"중구\", \"용산구\", \"성동구\", \"광진구\", \"동대문구\", \"중랑구\",\n",
    "             \"성북구\", \"강북구\", \"도봉구\", \"노원구\", \"은평구\", \"서대문구\", \"마포구\",\n",
    "             \"양천구\", \"강서구\", \"구로구\", \"금천구\", \"영등포구\", \"동작구\", \"관악구\",\n",
    "             \"서초구\", \"강남구\", \"송파구\", \"강동구\"],\n",
    "    \"위도\": [37.5733, 37.5636, 37.5326, 37.5507, 37.5384, 37.5744, 37.5980,\n",
    "           37.6069, 37.6396, 37.6688, 37.6542, 37.6176, 37.5792, 37.5663,\n",
    "           37.5244, 37.5509, 37.4924, 37.4569, 37.5263, 37.4967, 37.4784,\n",
    "           37.4836, 37.5172, 37.5113, 37.5301],\n",
    "    \"경도\": [126.9784, 126.9978, 126.9906, 127.0413, 127.0822, 127.0384, 127.0762,\n",
    "           127.0209, 127.0257, 127.0471, 127.0568, 126.9227, 126.9357, 126.9019,\n",
    "           126.8563, 126.8495, 126.8874, 126.8950, 126.8963, 126.9445, 126.9516,\n",
    "           127.0324, 127.0473, 127.1250, 127.1238]\n",
    "}\n",
    "\n",
    "# 데이터프레임 변환\n",
    "geo_df = pd.DataFrame(geo_data)\n",
    "\n",
    "# 기존 데이터(`merged_data`)에 위도, 경도 추가\n",
    "merged_data = merged_data.merge(geo_df, on=\"자치구\", how=\"left\")\n"
   ]
  },
  {
   "cell_type": "markdown",
   "metadata": {},
   "source": [
    "📌  **Folium 지도 시각화의 목적**\n",
    "- 서울시 지도에서 각 자치구별로 \"위험도\"에 따라 원(circle marker)으로 시각화하여,\n",
    "어느 지역이 상대적으로 범죄 발생률이 높고 CCTV가 부족한지 한눈에 확인 가능"
   ]
  },
  {
   "cell_type": "code",
   "execution_count": null,
   "metadata": {},
   "outputs": [
    {
     "name": "stdout",
     "output_type": "stream",
     "text": [
      "✅ 지도 저장 완료! 'seoul_risk_map.html'을 열어보세요.\n"
     ]
    }
   ],
   "source": [
    "import folium\n",
    "\n",
    "# 서울 지도 생성\n",
    "seoul_map = folium.Map(location=[37.5665, 126.9780], zoom_start=11)\n",
    "\n",
    "# 🔹 위험도가 가장 높은 5개, 가장 낮은 5개 찾기\n",
    "top_5 = merged_data.nlargest(5, \"위험도\")  # 위험도 높은 5개\n",
    "bottom_5 = merged_data.nsmallest(5, \"위험도\")  # 위험도 낮은 5개\n",
    "\n",
    "# 🔹 지도에 원 추가\n",
    "for idx, row in merged_data.iterrows():\n",
    "    # 🔹 위험도가 가장 높은 5개는 빨간색\n",
    "    if row[\"자치구\"] in top_5[\"자치구\"].values:\n",
    "        color = \"red\"\n",
    "        fill_color = \"red\"\n",
    "    # 🔹 위험도가 가장 낮은 5개는 초록색\n",
    "    elif row[\"자치구\"] in bottom_5[\"자치구\"].values:\n",
    "        color = \"green\"\n",
    "        fill_color = \"green\"\n",
    "    # 🔹 나머지는 파란색\n",
    "    else:\n",
    "        color = \"blue\"\n",
    "        fill_color = \"blue\"\n",
    "    \n",
    "    # 지도에 원 추가\n",
    "    folium.CircleMarker(\n",
    "        location=[row[\"위도\"], row[\"경도\"]],  # 위도, 경도 값 필요\n",
    "        radius=5 + row[\"위험도\"] * 10,  # 크기 조절\n",
    "        popup=f\"{row['자치구']}<br>위험도: {row['위험도']:.2f}\",\n",
    "        color=color,\n",
    "        fill=True,\n",
    "        fill_color=fill_color,\n",
    "        fill_opacity=0.6\n",
    "    ).add_to(seoul_map)\n",
    "\n",
    "#추가 설명 html\n",
    "legend_html = '''\n",
    "<div style=\"\n",
    "    position: fixed;\n",
    "    bottom: 50px;\n",
    "    right: 20px;\n",
    "    width: 160px;\n",
    "    background-color: white;\n",
    "    z-index:9999;\n",
    "    padding: 10px;\n",
    "    border-radius: 10px;\n",
    "    box-shadow: 2px 2px 5px rgba(0,0,0,0.3);\n",
    "    font-size: 12px;\n",
    "\">\n",
    "    <b>🔹 지도 범례</b><br>\n",
    "    <i class=\"fa fa-circle\" style=\"color:red\"></i> 위험도 높은 5개 지역<br>\n",
    "    <i class=\"fa fa-circle\" style=\"color:blue\"></i> 일반 지역<br>\n",
    "    <i class=\"fa fa-circle\" style=\"color:green\"></i> 위험도 낮은 5개 지역\n",
    "</div>\n",
    "'''\n",
    "\n",
    "# 🔹 지도에 HTML 범례 추가\n",
    "seoul_map.get_root().html.add_child(folium.Element(legend_html))\n",
    "\n",
    "# HTML 파일로 저장하여 확인 가능\n",
    "seoul_map.save(\"seoul_risk_map.html\")\n",
    "\n",
    "print(\"✅ 지도 저장 완료! 'seoul_risk_map.html'을 열어보세요.\")\n"
   ]
  },
  {
   "cell_type": "markdown",
   "metadata": {},
   "source": [
    "### 4️⃣ 머신러닝을 활용한 범죄 예측"
   ]
  },
  {
   "cell_type": "markdown",
   "metadata": {},
   "source": [
    "### 🔢 범죄 발생 예측 모델링  \n",
    "\n",
    "1️⃣ **데이터 준비** → X: CCTV 개수, 부동산 가격 / y: 총범죄발생  \n",
    "2️⃣ **데이터 분리** → 80% 학습 / 20% 테스트  \n",
    "3️⃣ **모델 학습** → RandomForestRegressor 사용  \n",
    "4️⃣ **예측 수행** → model.predict()  \n",
    "5️⃣ **성능 평가** → 평균 절대 오차(MAE) 계산  \n",
    "\n",
    "-> CCTV 개수와 평균 부동산 거래 금액을 바탕으로, 해당 지역의 범죄 발생 건수를 예측하는 것이 목표"
   ]
  },
  {
   "cell_type": "markdown",
   "metadata": {},
   "source": [
    "* 필요한 라이브러리 설치"
   ]
  },
  {
   "cell_type": "code",
   "execution_count": 76,
   "metadata": {},
   "outputs": [],
   "source": [
    "import sklearn\n",
    "from sklearn.model_selection import train_test_split\n",
    "from sklearn.ensemble import RandomForestRegressor\n",
    "from sklearn.ensemble import RandomForestClassifier\n",
    "from sklearn.metrics import mean_absolute_error\n",
    "from xgboost import XGBRegressor\n",
    "from sklearn.metrics import accuracy_score, classification_report"
   ]
  },
  {
   "cell_type": "code",
   "execution_count": 77,
   "metadata": {},
   "outputs": [
    {
     "name": "stdout",
     "output_type": "stream",
     "text": [
      "\n",
      "📌 랜덤포레스트 예측 결과 비교 (실제 vs 예측)\n",
      "\n",
      "     자치구  실제 범죄 발생  예측 범죄 발생  오차(절대값)\n",
      "16   강남구      6763   3847.67  2915.33\n",
      "0    성동구      2023   3910.72  1887.72\n",
      "23   송파구      5223   3910.72  1312.28\n",
      "11   관악구      4769   3592.12  1176.88\n",
      "22   강서구      4296   3137.42  1158.58\n",
      "1    성북구      2411   3568.16  1157.16\n",
      "5    양천구      3019   4000.26   981.26\n",
      "2   서대문구      2385   3363.08   978.08\n",
      "8    도봉구      1921   2599.70   678.70\n",
      "13   서초구      4522   3847.67   674.33\n",
      "12   광진구      3424   4010.99   586.99\n",
      "15   강동구      3398   3788.93   390.93\n",
      "9    강북구      2497   2499.74     2.74\n",
      "\n",
      "🔹 위험도 분석\n",
      "✅ 전체 지역 평균 위험도: 0.7795\n",
      "✅ 가장 낮은 위험도: 0.4361\n",
      "✅ 가장 높은 위험도: 1.2739\n",
      "✅ 위험도의 표준편차: 0.2051\n",
      "\n",
      "🔹 모델 평가\n",
      "✅ 평균적으로 모델의 예측값과 실제 범죄 발생 건수는 1069.31건 차이가 납니다.\n",
      "💡 MAE 값이 낮을수록 예측 정확도가 높습니다.\n"
     ]
    }
   ],
   "source": [
    "# 🔹 입력 데이터 설정\n",
    "X = merged_data[[\"CCTV_총계\", \"평균거래금액\"]]\n",
    "y = merged_data[\"범죄_합계\"]\n",
    "\n",
    "# 🔹 데이터 분리\n",
    "X_train, X_test, y_train, y_test = train_test_split(X, y, test_size=0.5, random_state=42)\n",
    "\n",
    "# 🔹 모델 학습\n",
    "model = RandomForestRegressor(n_estimators=100, random_state=42)\n",
    "model.fit(X_train, y_train)\n",
    "\n",
    "# 🔹 예측 및 평가\n",
    "y_pred = model.predict(X_test)\n",
    "mae = mean_absolute_error(y_test, y_pred)\n",
    "\n",
    "# 🔹 위험도 통계 계산\n",
    "위험도_평균 = merged_data[\"위험도\"].mean()\n",
    "위험도_최소 = merged_data[\"위험도\"].min()\n",
    "위험도_최대 = merged_data[\"위험도\"].max()\n",
    "위험도_표준편차 = merged_data[\"위험도\"].std()\n",
    "\n",
    "# 🔹 테스트 데이터의 자치구 정보 가져오기\n",
    "X_test_with_names = X_test.copy()\n",
    "X_test_with_names[\"자치구\"] = merged_data.loc[X_test.index, \"자치구\"]\n",
    "\n",
    "# 🔹 예측 결과를 DataFrame으로 변환\n",
    "result_df = pd.DataFrame({\n",
    "    \"자치구\": X_test_with_names[\"자치구\"],  # 자치구 이름 추가\n",
    "    \"실제 범죄 발생\": y_test.values,  # 실제 범죄 발생 수\n",
    "    \"예측 범죄 발생\": y_pred  # 예측한 범죄 발생 수\n",
    "})\n",
    "\n",
    "# 🔹 오차(절대값) 추가\n",
    "result_df[\"오차(절대값)\"] = abs(result_df[\"실제 범죄 발생\"] - result_df[\"예측 범죄 발생\"])\n",
    "\n",
    "# 🔹 예측 결과를 정렬하여 출력 (오차가 큰 순서대로)\n",
    "result_df = result_df.sort_values(by=\"오차(절대값)\", ascending=False)\n",
    "\n",
    "# 🔹 결과 출력\n",
    "print(\"\\n📌 랜덤포레스트 예측 결과 비교 (실제 vs 예측)\\n\")\n",
    "print(result_df)  # 상위 10개 출력\n",
    "\n",
    "# 🔹 위험도 통계 출력\n",
    "print(\"\\n🔹 위험도 분석\")\n",
    "print(f\"✅ 전체 지역 평균 위험도: {위험도_평균:.4f}\")\n",
    "print(f\"✅ 가장 낮은 위험도: {위험도_최소:.4f}\")\n",
    "print(f\"✅ 가장 높은 위험도: {위험도_최대:.4f}\")\n",
    "print(f\"✅ 위험도의 표준편차: {위험도_표준편차:.4f}\")\n",
    "\n",
    "# 🔹 모델의 평균 절대 오차(MAE) 출력\n",
    "print(\"\\n🔹 모델 평가\")\n",
    "print(f\"✅ 평균적으로 모델의 예측값과 실제 범죄 발생 건수는 {mae:.2f}건 차이가 납니다.\")\n",
    "print(\"💡 MAE 값이 낮을수록 예측 정확도가 높습니다.\")\n",
    "\n",
    "\n"
   ]
  },
  {
   "cell_type": "markdown",
   "metadata": {},
   "source": [
    "#### 📌 머신러닝을 활용한 안전한 거주지 추천 모델  \n",
    "\n",
    "- **목표**: 부동산 가격 + 범죄율을 고려한 거주지 추천  \n",
    "- **모델**: RandomForest, GradientBoosting, KMeans  \n",
    "- **입력 데이터 (X)**: CCTV 개수, 파출소 개수, 범죄율, 부동산 가격  \n",
    "- **타겟 값 (y)**: `안전한 거주지(1)` vs `위험한 거주지(0)`  \n",
    "\n",
    "💡 데이터 기반으로 보다 정확한 주거 지역 추천 가능!\n"
   ]
  },
  {
   "cell_type": "code",
   "execution_count": 78,
   "metadata": {},
   "outputs": [
    {
     "name": "stdout",
     "output_type": "stream",
     "text": [
      "✅ 모델 정확도: 100.00%\n",
      "\n",
      "🔹 새로운 데이터 예측 결과:\n"
     ]
    },
    {
     "data": {
      "text/html": [
       "<div>\n",
       "<style scoped>\n",
       "    .dataframe tbody tr th:only-of-type {\n",
       "        vertical-align: middle;\n",
       "    }\n",
       "\n",
       "    .dataframe tbody tr th {\n",
       "        vertical-align: top;\n",
       "    }\n",
       "\n",
       "    .dataframe thead th {\n",
       "        text-align: right;\n",
       "    }\n",
       "</style>\n",
       "<table border=\"1\" class=\"dataframe\">\n",
       "  <thead>\n",
       "    <tr style=\"text-align: right;\">\n",
       "      <th></th>\n",
       "      <th>CCTV_총계</th>\n",
       "      <th>치안시설_합계</th>\n",
       "      <th>평균거래금액</th>\n",
       "      <th>범죄_합계</th>\n",
       "      <th>예측_안전도</th>\n",
       "    </tr>\n",
       "  </thead>\n",
       "  <tbody>\n",
       "    <tr>\n",
       "      <th>0</th>\n",
       "      <td>5000</td>\n",
       "      <td>10</td>\n",
       "      <td>80000</td>\n",
       "      <td>3000</td>\n",
       "      <td>위험</td>\n",
       "    </tr>\n",
       "    <tr>\n",
       "      <th>1</th>\n",
       "      <td>8000</td>\n",
       "      <td>20</td>\n",
       "      <td>150000</td>\n",
       "      <td>1000</td>\n",
       "      <td>위험</td>\n",
       "    </tr>\n",
       "  </tbody>\n",
       "</table>\n",
       "</div>"
      ],
      "text/plain": [
       "   CCTV_총계  치안시설_합계  평균거래금액  범죄_합계 예측_안전도\n",
       "0     5000       10   80000   3000     위험\n",
       "1     8000       20  150000   1000     위험"
      ]
     },
     "execution_count": 78,
     "metadata": {},
     "output_type": "execute_result"
    }
   ],
   "source": [
    "merged_data\n",
    "\n",
    "# 🔹 데이터 전처리: 안전도 점수 계산\n",
    "merged_data[\"안전도_점수\"] = merged_data[\"CCTV_총계\"] / (merged_data[\"범죄_합계\"] + 1)  # 0으로 나누는 오류 방지\n",
    "merged_data[\"안전도_라벨\"] = (merged_data[\"안전도_점수\"] > merged_data[\"안전도_점수\"].median()).astype(int)  # 1: 안전, 0: 위험\n",
    "\n",
    "# 🔹 입력 데이터 & 타겟 변수 설정\n",
    "X = merged_data[[\"CCTV_총계\", \"치안시설_합계\", \"평균거래금액\", \"범죄_합계\"]]\n",
    "y = merged_data[\"안전도_라벨\"]\n",
    "\n",
    "# 🔹 데이터 분리\n",
    "X_train, X_test, y_train, y_test = train_test_split(X, y, test_size=0.2, random_state=42)\n",
    "\n",
    "# 🔹 모델 학습\n",
    "clf = RandomForestClassifier(n_estimators=100, random_state=42)\n",
    "clf.fit(X_train, y_train)\n",
    "\n",
    "# 🔹 예측 및 평가\n",
    "y_pred = clf.predict(X_test)\n",
    "accuracy = accuracy_score(y_test, y_pred)\n",
    "\n",
    "print(f\"✅ 모델 정확도: {accuracy * 100:.2f}%\")\n",
    "\n",
    "# 🔹 새로운 데이터 예측 (예제)\n",
    "new_data = pd.DataFrame({\n",
    "    \"CCTV_총계\": [5000, 8000],  # CCTV 개수 예제\n",
    "    \"치안시설_합계\": [10, 20],   # 파출소 개수 예제\n",
    "    \"평균거래금액\": [80000, 150000],  # 평균 부동산 거래금액 예제\n",
    "    \"범죄_합계\": [3000, 1000]   # 범죄 발생 수 예제\n",
    "})\n",
    "\n",
    "new_predictions = clf.predict(new_data)\n",
    "new_data[\"예측_안전도\"] = [\"안전\" if pred == 1 else \"위험\" for pred in new_predictions]\n",
    "\n",
    "print(\"\\n🔹 새로운 데이터 예측 결과:\")\n",
    "new_data\n"
   ]
  },
  {
   "cell_type": "markdown",
   "metadata": {},
   "source": [
    "#### 5️⃣ 데이터 저장 (DB)"
   ]
  },
  {
   "cell_type": "markdown",
   "metadata": {},
   "source": [
    "* 필요한 라이브러리 설치"
   ]
  },
  {
   "cell_type": "code",
   "execution_count": 79,
   "metadata": {},
   "outputs": [],
   "source": [
    "from pymongo import MongoClient"
   ]
  },
  {
   "cell_type": "code",
   "execution_count": 80,
   "metadata": {},
   "outputs": [
    {
     "name": "stdout",
     "output_type": "stream",
     "text": [
      "✅ CSV 데이터가 MongoDB(SeoulCrimeDB)에 저장되었습니다!\n"
     ]
    }
   ],
   "source": [
    "# 🔹 MongoDB 연결\n",
    "client = MongoClient(\"mongodb://localhost:27017/\")\n",
    "db = client[\"SeoulCrimeDB\"]\n",
    "\n",
    "# 📂 CSV 파일 로드\n",
    "# real_estate_data = pd.read_csv(\"서울시 부동산 실거래가 정보(2022~2025).csv\",  encoding='euc-kr')\n",
    "cctv_data = pd.read_csv(\"서울시 자치구cctv.csv\", encoding=\"utf-8\")\n",
    "crime_data = pd.read_csv(\"서울시 5대범죄발생.csv\", encoding=\"utf-8\", sep='\\t')\n",
    "police_data = pd.read_csv(\"서울시 경찰서 갯수.csv\", encoding=\"utf-8\")\n",
    "merged_data\n",
    "real_estate_grouped_data\n",
    "\n",
    "# 🔹 기존 데이터 삭제 (테스트용, 필요 없으면 주석 처리)\n",
    "db.real_estate.drop()\n",
    "db.cctv.drop()\n",
    "db.crime.drop()\n",
    "db.police.drop()\n",
    "db.merge.drop()\n",
    "db.real_estate_grouped.drop()\n",
    "\n",
    "# 🔹 CSV 데이터를 MongoDB에 저장\n",
    "db.real_estate.insert_many(real_estate_data.to_dict(\"records\"))\n",
    "db.cctv.insert_many(cctv_data.to_dict(\"records\"))\n",
    "db.crime.insert_many(crime_data.to_dict(\"records\"))\n",
    "db.police.insert_many(police_data.to_dict(\"records\"))\n",
    "db.merge.insert_many(merged_data.to_dict(\"records\"))\n",
    "db.real_estate_grouped.insert_many(real_estate_grouped_data.to_dict(\"records\"))\n",
    "\n",
    "print(\"✅ CSV 데이터가 MongoDB(SeoulCrimeDB)에 저장되었습니다!\")\n"
   ]
  },
  {
   "cell_type": "code",
   "execution_count": 84,
   "metadata": {},
   "outputs": [
    {
     "name": "stdout",
     "output_type": "stream",
     "text": [
      "\n",
      "📂 MongoDB에 저장된 컬렉션 목록:\n",
      "['real_estate_grouped', 'real_estate', 'crime', 'merge', 'cctv', 'police']\n"
     ]
    }
   ],
   "source": [
    "# 🔹 MongoDB 연결\n",
    "client = MongoClient(\"mongodb://localhost:27017/\")\n",
    "db = client[\"SeoulCrimeDB\"]\n",
    "\n",
    "# 🔹 저장된 컬렉션 목록 확인\n",
    "collections = db.list_collection_names()\n",
    "print(\"\\n📂 MongoDB에 저장된 컬렉션 목록:\")\n",
    "print(collections)\n"
   ]
  },
  {
   "cell_type": "markdown",
   "metadata": {},
   "source": [
    "> 데이터가 궁금하다면??"
   ]
  },
  {
   "cell_type": "code",
   "execution_count": 85,
   "metadata": {},
   "outputs": [
    {
     "name": "stdout",
     "output_type": "stream",
     "text": [
      "\n",
      "📌 'real_estate_grouped' 컬렉션 데이터 확인:\n",
      "{'_id': ObjectId('67b680e038f6c15e60686b6f'), '자치구': '강남구', '평균거래금액': 175249.4274167475, '평균건물면적': 79.07603968638863, '평균건축년도': 1969.4863684167947}\n",
      "{'_id': ObjectId('67b680e038f6c15e60686b70'), '자치구': '강동구', '평균거래금액': 74539.09800868639, '평균건물면적': 62.631046218143084, '평균건축년도': 1950.3345105124836}\n",
      "{'_id': ObjectId('67b680e038f6c15e60686b71'), '자치구': '강북구', '평균거래금액': 36790.41371382202, '평균건물면적': 59.379246956992155, '평균건축년도': 1989.1678614905993}\n",
      "{'_id': ObjectId('67b680e038f6c15e60686b72'), '자치구': '강서구', '평균거래금액': 41237.221077181755, '평균건물면적': 50.55300564083094, '평균건축년도': 2007.6909525880817}\n",
      "{'_id': ObjectId('67b680e038f6c15e60686b73'), '자치구': '관악구', '평균거래금액': 48789.376776467994, '평균건물면적': 66.18123917593918, '평균건축년도': 1998.1603752759381}\n",
      "{'_id': ObjectId('67b680e038f6c15e60686b74'), '자치구': '광진구', '평균거래금액': 74112.63684550744, '평균건물면적': 69.4322262443439, '평균건축년도': 1980.3903514459862}\n",
      "{'_id': ObjectId('67b680e038f6c15e60686b75'), '자치구': '구로구', '평균거래금액': 43640.239348253584, '평균건물면적': 57.41452102256766, '평균건축년도': 2003.1070290534208}\n",
      "{'_id': ObjectId('67b680e038f6c15e60686b76'), '자치구': '금천구', '평균거래금액': 37890.772738821135, '평균건물면적': 52.10847662601626, '평균건축년도': 2012.1162434605078}\n",
      "{'_id': ObjectId('67b680e038f6c15e60686b77'), '자치구': '노원구', '평균거래금액': 55159.55860557353, '평균건물면적': 62.00690261976829, '평균건축년도': 1994.416388308977}\n",
      "{'_id': ObjectId('67b680e038f6c15e60686b78'), '자치구': '도봉구', '평균거래금액': 38065.3371389271, '평균건물면적': 62.25884951856946, '평균건축년도': 1999.5318678280105}\n",
      "{'_id': ObjectId('67b680e038f6c15e60686b79'), '자치구': '동대문구', '평균거래금액': 62288.45121951219, '평균건물면적': 64.78104195569479, '평균건축년도': 1940.1027803099362}\n",
      "{'_id': ObjectId('67b680e038f6c15e60686b7a'), '자치구': '동작구', '평균거래금액': 78693.15589311454, '평균건물면적': 67.89445603725468, '평균건축년도': 1985.1588183029764}\n",
      "{'_id': ObjectId('67b680e038f6c15e60686b7b'), '자치구': '마포구', '평균거래금액': 79567.0406567631, '평균건물면적': 60.16886091564591, '평균건축년도': 1983.8182136296036}\n",
      "{'_id': ObjectId('67b680e038f6c15e60686b7c'), '자치구': '서대문구', '평균거래금액': 64582.288360128616, '평균건물면적': 64.54998405144694, '평균건축년도': 2003.5515112540193}\n",
      "{'_id': ObjectId('67b680e038f6c15e60686b7d'), '자치구': '서초구', '평균거래금액': 159972.46654294257, '평균건물면적': 75.06039756675946, '평균건축년도': 1991.4231483391789}\n",
      "{'_id': ObjectId('67b680e038f6c15e60686b7e'), '자치구': '성동구', '평균거래금액': 122804.97921355753, '평균건물면적': 75.69807559909968, '평균건축년도': 1994.1174910489326}\n",
      "{'_id': ObjectId('67b680e038f6c15e60686b7f'), '자치구': '성북구', '평균거래금액': 64624.18931149661, '평균건물면적': 72.74712455554358, '평균건축년도': 1995.5597714778485}\n",
      "{'_id': ObjectId('67b680e038f6c15e60686b80'), '자치구': '송파구', '평균거래금액': 105114.59683847868, '평균건물면적': 67.08501601026819, '평균건축년도': 2003.0329817158931}\n",
      "{'_id': ObjectId('67b680e038f6c15e60686b81'), '자치구': '양천구', '평균거래금액': 72124.8098109351, '평균건물면적': 64.81063515585079, '평균건축년도': 2002.8228857756417}\n",
      "{'_id': ObjectId('67b680e038f6c15e60686b82'), '자치구': '영등포구', '평균거래금액': 76448.34574669188, '평균건물면적': 61.60655359168243, '평균건축년도': 1999.0235361108475}\n"
     ]
    }
   ],
   "source": [
    "# 🔹 사용자 입력으로 컬렉션 선택\n",
    "y = input(\"\\n🔍 조회할 컬렉션 이름을 입력하세요: \")\n",
    "# 🔹 입력한 컬렉션이 실제 존재하는지 확인 후 데이터 출력\n",
    "if y in collections:\n",
    "    print(f\"\\n📌 '{y}' 컬렉션 데이터 확인:\")\n",
    "    for doc in db[y].find().limit(20):  # 5개만 출력\n",
    "        print(doc)\n",
    "else:\n",
    "    print(f\"\\n❌ 오류: '{y}' 컬렉션이 존재하지 않습니다. 다시 확인하세요.\")"
   ]
  }
 ],
 "metadata": {
  "kernelspec": {
   "display_name": "Python 3",
   "language": "python",
   "name": "python3"
  },
  "language_info": {
   "codemirror_mode": {
    "name": "ipython",
    "version": 3
   },
   "file_extension": ".py",
   "mimetype": "text/x-python",
   "name": "python",
   "nbconvert_exporter": "python",
   "pygments_lexer": "ipython3",
   "version": "3.11.9"
  }
 },
 "nbformat": 4,
 "nbformat_minor": 2
}
